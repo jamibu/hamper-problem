{
 "cells": [
  {
   "cell_type": "markdown",
   "metadata": {},
   "source": [
    "# All possible hampers\n",
    "\n",
    "The following problem has been proposed:\n",
    "\n",
    ">A charity purchased some bulk packs, each pack contains 1 or more items.\n",
    "They want to put together as many hampers as they can, with the costs ideally of 5000, and they're all as even as possible, so minimise the sum of the absolute difference of the hamper cost to 5000 across all hampers.\n",
    "Design the hampers with no duplicate items and use all available items.\n",
    "\n",
    "In summary:\n",
    "\n",
    "__Goal:__\n",
    "* Minimise the sum of the absolute difference of hamper cost from 5000 across all hampers\n",
    "\n",
    "__Constraints:__\n",
    "* Hampers cannot contain duplicate items\n",
    "* All items must be used or added to the sum absolute difference\n",
    "\n",
    "__Output:__\n",
    "* Number of hampers\n",
    "* Sum of the absolute difference of hamper cost from 5000 across all hampers\n",
    "* Items in each hamper"
   ]
  },
  {
   "cell_type": "markdown",
   "metadata": {},
   "source": [
    "# All possible hampers\n",
    "\n",
    "The following problem has been proposed:\n",
    "\n",
    ">A charity purchased some bulk packs, each pack contains 1 or more items.\n",
    "They want to put together as many hampers as they can, with the costs ideally of 5000, and they're all as even as possible, so minimise the sum of the absolute difference of the hamper cost to 5000 across all hampers.\n",
    "Design the hampers with no duplicate items and use all available items.\n",
    "\n",
    "In summary:\n",
    "\n",
    "__Goal:__\n",
    "* Minimise the sum of the absolute difference of hamper cost from 5000 across all hampers\n",
    "\n",
    "__Constraints:__\n",
    "* Hampers cannot contain duplicate items\n",
    "* All items must be used or added to the sum absolute difference\n",
    "\n",
    "__Output:__\n",
    "* Number of hampers\n",
    "* Sum of the absolute difference of hamper cost from 5000 across all hampers\n",
    "* Items in each hamper"
   ]
  },
  {
   "cell_type": "markdown",
   "metadata": {},
   "source": [
    "## Data\n",
    "A CSV file containing information on the bulk packs is provided below. We'll read the data using Pandas.\n",
    "> CharityBulkPurchaseList.csv"
   ]
  },
  {
   "cell_type": "code",
   "execution_count": 4,
   "metadata": {},
   "outputs": [
    {
     "data": {
      "text/html": [
       "<div>\n",
       "<style scoped>\n",
       "    .dataframe tbody tr th:only-of-type {\n",
       "        vertical-align: middle;\n",
       "    }\n",
       "\n",
       "    .dataframe tbody tr th {\n",
       "        vertical-align: top;\n",
       "    }\n",
       "\n",
       "    .dataframe thead th {\n",
       "        text-align: right;\n",
       "    }\n",
       "</style>\n",
       "<table border=\"1\" class=\"dataframe\">\n",
       "  <thead>\n",
       "    <tr style=\"text-align: right;\">\n",
       "      <th></th>\n",
       "      <th>item</th>\n",
       "      <th>brand</th>\n",
       "      <th>units per pack</th>\n",
       "      <th>price per pack</th>\n",
       "      <th>quantity of packs</th>\n",
       "    </tr>\n",
       "  </thead>\n",
       "  <tbody>\n",
       "    <tr>\n",
       "      <th>0</th>\n",
       "      <td>Bleach</td>\n",
       "      <td>Blanchite</td>\n",
       "      <td>5</td>\n",
       "      <td>3550</td>\n",
       "      <td>2</td>\n",
       "    </tr>\n",
       "    <tr>\n",
       "      <th>1</th>\n",
       "      <td>Chickpeas</td>\n",
       "      <td>Southern Style</td>\n",
       "      <td>2</td>\n",
       "      <td>2600</td>\n",
       "      <td>5</td>\n",
       "    </tr>\n",
       "    <tr>\n",
       "      <th>2</th>\n",
       "      <td>Coffee</td>\n",
       "      <td>Colombia Select</td>\n",
       "      <td>2</td>\n",
       "      <td>4180</td>\n",
       "      <td>5</td>\n",
       "    </tr>\n",
       "    <tr>\n",
       "      <th>3</th>\n",
       "      <td>Flour</td>\n",
       "      <td>Neighbor Mills</td>\n",
       "      <td>10</td>\n",
       "      <td>5200</td>\n",
       "      <td>1</td>\n",
       "    </tr>\n",
       "    <tr>\n",
       "      <th>4</th>\n",
       "      <td>Lentils</td>\n",
       "      <td>Southern Style</td>\n",
       "      <td>2</td>\n",
       "      <td>2378</td>\n",
       "      <td>5</td>\n",
       "    </tr>\n",
       "  </tbody>\n",
       "</table>\n",
       "</div>"
      ],
      "text/plain": [
       "        item            brand  units per pack  price per pack  \\\n",
       "0     Bleach        Blanchite               5            3550   \n",
       "1  Chickpeas   Southern Style               2            2600   \n",
       "2     Coffee  Colombia Select               2            4180   \n",
       "3      Flour   Neighbor Mills              10            5200   \n",
       "4    Lentils   Southern Style               2            2378   \n",
       "\n",
       "   quantity of packs  \n",
       "0                  2  \n",
       "1                  5  \n",
       "2                  5  \n",
       "3                  1  \n",
       "4                  5  "
      ]
     },
     "execution_count": 4,
     "metadata": {},
     "output_type": "execute_result"
    }
   ],
   "source": [
    "import pandas as pd\n",
    "\n",
    "df = pd.read_csv(\"CharityBulkPurchaseList.csv\")\n",
    "df.set_index(\"item\")\n",
    "df.head()"
   ]
  },
  {
   "cell_type": "markdown",
   "metadata": {},
   "source": [
    "We need to know the number and price of the units in each pack. "
   ]
  },
  {
   "cell_type": "markdown",
   "metadata": {},
   "source": [
    "## Ideal number of hampers. \n",
    "The main goal of this problem is to make as many hampers as possible "
   ]
  },
  {
   "cell_type": "markdown",
   "metadata": {},
   "source": [
    "## Finding All Viable Hampers\n",
    "We'll start by finding all possible hampers than can be made with between 3 and 10 items (inclusive). To be clear, this is not the solution, this is just all combinations of the items. For the solution we need to divide the available items between some number of hampers.\n",
    "* Sum of 3 most expensive items = 4970\n",
    "* Sum of 10 lest expensive items = 5315"
   ]
  },
  {
   "cell_type": "code",
   "execution_count": 2,
   "metadata": {},
   "outputs": [
    {
     "name": "stdout",
     "output_type": "stream",
     "text": [
      "(0, 1, 2)\n",
      "(0, 1, 3)\n",
      "(5, 6, 7, 8, 9, 10, 11, 12, 13, 14)\n",
      "30706\n",
      "Wall time: 0 ns\n"
     ]
    }
   ],
   "source": [
    "%%time\n",
    "import itertools\n",
    "\n",
    "# Could do this myself using recursion but why bother when combinations exists\n",
    "possible_hampers = []\n",
    "\n",
    "items_array = df.index\n",
    "\n",
    "# Iterate through hamper size of 3 to 11 items\n",
    "for n_items in range(3, 11):\n",
    "    subsets = list(itertools.combinations(items_array, n_items))\n",
    "    possible_hampers.extend(subsets)\n",
    "\n",
    "print(possible_hampers[0])\n",
    "print(possible_hampers[1])\n",
    "print(possible_hampers[-1])\n",
    "print(len(possible_hampers))"
   ]
  },
  {
   "cell_type": "markdown",
   "metadata": {},
   "source": [
    "We'll now determine the cost of each possible hamper and the maximum number of those hampers that we could make."
   ]
  },
  {
   "cell_type": "code",
   "execution_count": 3,
   "metadata": {},
   "outputs": [
    {
     "ename": "KeyError",
     "evalue": "'price_per_unit'",
     "output_type": "error",
     "traceback": [
      "\u001b[1;31m---------------------------------------------------------------------------\u001b[0m",
      "\u001b[1;31mKeyError\u001b[0m                                  Traceback (most recent call last)",
      "\u001b[1;32mC:\\OMC\\Python37_win64\\lib\\site-packages\\pandas\\core\\indexes\\base.py\u001b[0m in \u001b[0;36mget_loc\u001b[1;34m(self, key, method, tolerance)\u001b[0m\n\u001b[0;32m   2894\u001b[0m             \u001b[1;32mtry\u001b[0m\u001b[1;33m:\u001b[0m\u001b[1;33m\u001b[0m\u001b[1;33m\u001b[0m\u001b[0m\n\u001b[1;32m-> 2895\u001b[1;33m                 \u001b[1;32mreturn\u001b[0m \u001b[0mself\u001b[0m\u001b[1;33m.\u001b[0m\u001b[0m_engine\u001b[0m\u001b[1;33m.\u001b[0m\u001b[0mget_loc\u001b[0m\u001b[1;33m(\u001b[0m\u001b[0mcasted_key\u001b[0m\u001b[1;33m)\u001b[0m\u001b[1;33m\u001b[0m\u001b[1;33m\u001b[0m\u001b[0m\n\u001b[0m\u001b[0;32m   2896\u001b[0m             \u001b[1;32mexcept\u001b[0m \u001b[0mKeyError\u001b[0m \u001b[1;32mas\u001b[0m \u001b[0merr\u001b[0m\u001b[1;33m:\u001b[0m\u001b[1;33m\u001b[0m\u001b[1;33m\u001b[0m\u001b[0m\n",
      "\u001b[1;32mpandas\\_libs\\index.pyx\u001b[0m in \u001b[0;36mpandas._libs.index.IndexEngine.get_loc\u001b[1;34m()\u001b[0m\n",
      "\u001b[1;32mpandas\\_libs\\index.pyx\u001b[0m in \u001b[0;36mpandas._libs.index.IndexEngine.get_loc\u001b[1;34m()\u001b[0m\n",
      "\u001b[1;32mpandas\\_libs\\hashtable_class_helper.pxi\u001b[0m in \u001b[0;36mpandas._libs.hashtable.PyObjectHashTable.get_item\u001b[1;34m()\u001b[0m\n",
      "\u001b[1;32mpandas\\_libs\\hashtable_class_helper.pxi\u001b[0m in \u001b[0;36mpandas._libs.hashtable.PyObjectHashTable.get_item\u001b[1;34m()\u001b[0m\n",
      "\u001b[1;31mKeyError\u001b[0m: 'price_per_unit'",
      "\nThe above exception was the direct cause of the following exception:\n",
      "\u001b[1;31mKeyError\u001b[0m                                  Traceback (most recent call last)",
      "\u001b[1;32m<timed exec>\u001b[0m in \u001b[0;36m<module>\u001b[1;34m\u001b[0m\n",
      "\u001b[1;32mC:\\OMC\\Python37_win64\\lib\\site-packages\\pandas\\core\\frame.py\u001b[0m in \u001b[0;36m__getitem__\u001b[1;34m(self, key)\u001b[0m\n\u001b[0;32m   2900\u001b[0m             \u001b[1;32mif\u001b[0m \u001b[0mself\u001b[0m\u001b[1;33m.\u001b[0m\u001b[0mcolumns\u001b[0m\u001b[1;33m.\u001b[0m\u001b[0mnlevels\u001b[0m \u001b[1;33m>\u001b[0m \u001b[1;36m1\u001b[0m\u001b[1;33m:\u001b[0m\u001b[1;33m\u001b[0m\u001b[1;33m\u001b[0m\u001b[0m\n\u001b[0;32m   2901\u001b[0m                 \u001b[1;32mreturn\u001b[0m \u001b[0mself\u001b[0m\u001b[1;33m.\u001b[0m\u001b[0m_getitem_multilevel\u001b[0m\u001b[1;33m(\u001b[0m\u001b[0mkey\u001b[0m\u001b[1;33m)\u001b[0m\u001b[1;33m\u001b[0m\u001b[1;33m\u001b[0m\u001b[0m\n\u001b[1;32m-> 2902\u001b[1;33m             \u001b[0mindexer\u001b[0m \u001b[1;33m=\u001b[0m \u001b[0mself\u001b[0m\u001b[1;33m.\u001b[0m\u001b[0mcolumns\u001b[0m\u001b[1;33m.\u001b[0m\u001b[0mget_loc\u001b[0m\u001b[1;33m(\u001b[0m\u001b[0mkey\u001b[0m\u001b[1;33m)\u001b[0m\u001b[1;33m\u001b[0m\u001b[1;33m\u001b[0m\u001b[0m\n\u001b[0m\u001b[0;32m   2903\u001b[0m             \u001b[1;32mif\u001b[0m \u001b[0mis_integer\u001b[0m\u001b[1;33m(\u001b[0m\u001b[0mindexer\u001b[0m\u001b[1;33m)\u001b[0m\u001b[1;33m:\u001b[0m\u001b[1;33m\u001b[0m\u001b[1;33m\u001b[0m\u001b[0m\n\u001b[0;32m   2904\u001b[0m                 \u001b[0mindexer\u001b[0m \u001b[1;33m=\u001b[0m \u001b[1;33m[\u001b[0m\u001b[0mindexer\u001b[0m\u001b[1;33m]\u001b[0m\u001b[1;33m\u001b[0m\u001b[1;33m\u001b[0m\u001b[0m\n",
      "\u001b[1;32mC:\\OMC\\Python37_win64\\lib\\site-packages\\pandas\\core\\indexes\\base.py\u001b[0m in \u001b[0;36mget_loc\u001b[1;34m(self, key, method, tolerance)\u001b[0m\n\u001b[0;32m   2895\u001b[0m                 \u001b[1;32mreturn\u001b[0m \u001b[0mself\u001b[0m\u001b[1;33m.\u001b[0m\u001b[0m_engine\u001b[0m\u001b[1;33m.\u001b[0m\u001b[0mget_loc\u001b[0m\u001b[1;33m(\u001b[0m\u001b[0mcasted_key\u001b[0m\u001b[1;33m)\u001b[0m\u001b[1;33m\u001b[0m\u001b[1;33m\u001b[0m\u001b[0m\n\u001b[0;32m   2896\u001b[0m             \u001b[1;32mexcept\u001b[0m \u001b[0mKeyError\u001b[0m \u001b[1;32mas\u001b[0m \u001b[0merr\u001b[0m\u001b[1;33m:\u001b[0m\u001b[1;33m\u001b[0m\u001b[1;33m\u001b[0m\u001b[0m\n\u001b[1;32m-> 2897\u001b[1;33m                 \u001b[1;32mraise\u001b[0m \u001b[0mKeyError\u001b[0m\u001b[1;33m(\u001b[0m\u001b[0mkey\u001b[0m\u001b[1;33m)\u001b[0m \u001b[1;32mfrom\u001b[0m \u001b[0merr\u001b[0m\u001b[1;33m\u001b[0m\u001b[1;33m\u001b[0m\u001b[0m\n\u001b[0m\u001b[0;32m   2898\u001b[0m \u001b[1;33m\u001b[0m\u001b[0m\n\u001b[0;32m   2899\u001b[0m         \u001b[1;32mif\u001b[0m \u001b[0mtolerance\u001b[0m \u001b[1;32mis\u001b[0m \u001b[1;32mnot\u001b[0m \u001b[1;32mNone\u001b[0m\u001b[1;33m:\u001b[0m\u001b[1;33m\u001b[0m\u001b[1;33m\u001b[0m\u001b[0m\n",
      "\u001b[1;31mKeyError\u001b[0m: 'price_per_unit'"
     ]
    }
   ],
   "source": [
    "%%time\n",
    "import numpy as np\n",
    "\n",
    "# Should be a faster way of doing this but oh well\n",
    "hamper_item_hash = {}\n",
    "hamper_info = []\n",
    "for i, items_in_hamper in enumerate(possible_hampers):\n",
    "    items_in_hamper = np.array(items_in_hamper)\n",
    "    hamper_cost = df[\"price_per_unit\"][items_in_hamper].sum()\n",
    "    max_hampers = df[\"total_units\"][items_in_hamper].min()\n",
    "    \n",
    "    hamper_item_hash[i] = items_in_hamper\n",
    "    hamper_info.append({\n",
    "        \"id\": i,\n",
    "        \"cost\": hamper_cost,\n",
    "        \"absDiff\": abs(5000 - hamper_cost),\n",
    "        \"maxPossible\": max_hampers,\n",
    "        \"items\": items_in_hamper\n",
    "    })\n",
    "\n",
    "hamper_df = pd.DataFrame(hamper_info)\n",
    "\n",
    "hamper_df = df.sort_values(\"absDiff\")\n",
    "hamper_df.head(10)"
   ]
  },
  {
   "cell_type": "code",
   "execution_count": null,
   "metadata": {},
   "outputs": [],
   "source": []
  }
 ],
 "metadata": {
  "kernelspec": {
   "display_name": "Python 3",
   "language": "python",
   "name": "python3"
  },
  "language_info": {
   "codemirror_mode": {
    "name": "ipython",
    "version": 3
   },
   "file_extension": ".py",
   "mimetype": "text/x-python",
   "name": "python",
   "nbconvert_exporter": "python",
   "pygments_lexer": "ipython3",
   "version": "3.7.7"
  }
 },
 "nbformat": 4,
 "nbformat_minor": 4
}
