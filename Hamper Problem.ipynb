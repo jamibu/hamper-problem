{
 "cells": [
  {
   "cell_type": "markdown",
   "metadata": {},
   "source": [
    "# Solving the \"Hamper Problem\" with a Genetic Algorithm\n",
    "\n",
    "The following notebook outlines the creation of a Genetic Algorithm (GA) to solve a problem that I will refer to as the \"hamper problem\". This is an optimisation problem where a selection of items are given and must be distributed between hampers with the aim of all hampers being worth as close to 5000 as possible.\n",
    "\n",
    "\n",
    "you must create multiple hampers from a list of items while minimising the difference in their value from a target value (more information is provided below). The choice of a Genetic Algorithm for this problem was more out of interest in the approach than it being the best suited optimisation method. I had been reading about the use of GAs in hyperparameter optimisation and neuro-evolutionary learning at the time, which prompted the choice.\n",
    "\n",
    "The problem was proposed as follows:\n",
    "\n",
    ">A charity purchased some bulk packs, each pack contains 1 or more items. They want to put together as many hampers as they can, with the costs ideally of ¥5000, and they're all as even as possible, so minimise the sum of the absolute difference of the hamper cost to ¥5000 across all hampers. Design the hampers with no duplicate items.\n",
    "\n",
    "In other words:\n",
    "- Assign items to hampers with no duplicates\n",
    "    - I'm also assuming that all items must be used\n",
    "- Determine the ideal number of hampers\n",
    "- Determine an optimised "
   ]
  },
  {
   "cell_type": "code",
   "execution_count": 10,
   "metadata": {},
   "outputs": [],
   "source": [
    "from typing import Tuple\n",
    "import random\n",
    "import json\n",
    "\n",
    "import numpy as np\n",
    "import pandas as pd"
   ]
  },
  {
   "cell_type": "markdown",
   "metadata": {},
   "source": [
    "## Table of Contents\n",
    "\n",
    " 1. [Data](#data)\n",
    " 2. [Initial Processing](#initial_processing)\n",
    " 3. [Building the Genetic Algorithm](#bulding_ga)\n",
    " 4. [Running the Genetic Algorithm](#running_ga)"
   ]
  },
  {
   "cell_type": "markdown",
   "metadata": {},
   "source": [
    "## 1. Data <a name=\"data\"></a>\n",
    "A CSV file has been provided for this problem containing information on the \"bulk packs\" that the charity has purchased. I have calculated the \"total units\" and \"price per unit\" in advance, we'll need to know these to solve the problem. I'll read the data into a pandas dataframe. You can see the last 5 items below (there are 15 in total)."
   ]
  },
  {
   "cell_type": "code",
   "execution_count": 2,
   "metadata": {},
   "outputs": [
    {
     "data": {
      "text/html": [
       "<div>\n",
       "<style scoped>\n",
       "    .dataframe tbody tr th:only-of-type {\n",
       "        vertical-align: middle;\n",
       "    }\n",
       "\n",
       "    .dataframe tbody tr th {\n",
       "        vertical-align: top;\n",
       "    }\n",
       "\n",
       "    .dataframe thead th {\n",
       "        text-align: right;\n",
       "    }\n",
       "</style>\n",
       "<table border=\"1\" class=\"dataframe\">\n",
       "  <thead>\n",
       "    <tr style=\"text-align: right;\">\n",
       "      <th></th>\n",
       "      <th>item</th>\n",
       "      <th>brand</th>\n",
       "      <th>units per pack</th>\n",
       "      <th>price per pack</th>\n",
       "      <th>quantity of packs</th>\n",
       "      <th>total units</th>\n",
       "      <th>price per unit</th>\n",
       "    </tr>\n",
       "  </thead>\n",
       "  <tbody>\n",
       "    <tr>\n",
       "      <th>10</th>\n",
       "      <td>Tea</td>\n",
       "      <td>Superior</td>\n",
       "      <td>5</td>\n",
       "      <td>2720</td>\n",
       "      <td>2</td>\n",
       "      <td>10</td>\n",
       "      <td>544.0</td>\n",
       "    </tr>\n",
       "    <tr>\n",
       "      <th>11</th>\n",
       "      <td>Tofu</td>\n",
       "      <td>Gourmet Choice</td>\n",
       "      <td>1</td>\n",
       "      <td>1580</td>\n",
       "      <td>10</td>\n",
       "      <td>10</td>\n",
       "      <td>1580.0</td>\n",
       "    </tr>\n",
       "    <tr>\n",
       "      <th>12</th>\n",
       "      <td>Tomato sauce</td>\n",
       "      <td>Best Family</td>\n",
       "      <td>1</td>\n",
       "      <td>190</td>\n",
       "      <td>10</td>\n",
       "      <td>10</td>\n",
       "      <td>190.0</td>\n",
       "    </tr>\n",
       "    <tr>\n",
       "      <th>13</th>\n",
       "      <td>UHT milk</td>\n",
       "      <td>Atlantic</td>\n",
       "      <td>6</td>\n",
       "      <td>4560</td>\n",
       "      <td>2</td>\n",
       "      <td>12</td>\n",
       "      <td>760.0</td>\n",
       "    </tr>\n",
       "    <tr>\n",
       "      <th>14</th>\n",
       "      <td>Vegetable oil</td>\n",
       "      <td>Crafco</td>\n",
       "      <td>12</td>\n",
       "      <td>10020</td>\n",
       "      <td>1</td>\n",
       "      <td>12</td>\n",
       "      <td>835.0</td>\n",
       "    </tr>\n",
       "  </tbody>\n",
       "</table>\n",
       "</div>"
      ],
      "text/plain": [
       "             item           brand  units per pack  price per pack  \\\n",
       "10            Tea        Superior               5            2720   \n",
       "11           Tofu  Gourmet Choice               1            1580   \n",
       "12   Tomato sauce     Best Family               1             190   \n",
       "13       UHT milk        Atlantic               6            4560   \n",
       "14  Vegetable oil          Crafco              12           10020   \n",
       "\n",
       "    quantity of packs  total units  price per unit  \n",
       "10                  2           10           544.0  \n",
       "11                 10           10          1580.0  \n",
       "12                 10           10           190.0  \n",
       "13                  2           12           760.0  \n",
       "14                  1           12           835.0  "
      ]
     },
     "execution_count": 2,
     "metadata": {},
     "output_type": "execute_result"
    }
   ],
   "source": [
    "df = pd.read_csv(\"CharityBulkPurchaseList.csv\")\n",
    "df.tail()"
   ]
  },
  {
   "cell_type": "markdown",
   "metadata": {},
   "source": [
    "We'll also need to know the total amount spent on all of these items in the section below so I'll calculate that here."
   ]
  },
  {
   "cell_type": "code",
   "execution_count": 3,
   "metadata": {},
   "outputs": [
    {
     "name": "stdout",
     "output_type": "stream",
     "text": [
      "Total value of all items: ¥126709\n"
     ]
    }
   ],
   "source": [
    "# Price per pack x quantity of packs gives us the value of all units of that item\n",
    "# The sum of this gives the total value of all items bought by the charity\n",
    "total_item_value = ( df[\"price per pack\"] * df[\"quantity of packs\"] ).sum()\n",
    "\n",
    "print(f\"Total value of all items: ¥{total_item_value}\")"
   ]
  },
  {
   "cell_type": "markdown",
   "metadata": {},
   "source": [
    "## 2. Initial Processing <a name=\"intial_processing\"></a>\n",
    "\n",
    "The availale information is enough to determine both the number of hampers we should make and the best possible sum cost difference. Knowing these narrows our search space and gives us something to aim for in our optimisation.\n",
    "\n",
    "### Ideal number of hampers\n",
    "\n",
    "Determining the number of hampers we should be making is fairly simple. We know the total value of the items that will be distributed between the hampers and that we want the hampers to ideally be worth 5000. Therefore, we can find the ideal number of hampers by finding how many times 5000 goes into the total value of the items and rounding to the nearest whole number."
   ]
  },
  {
   "cell_type": "code",
   "execution_count": 4,
   "metadata": {},
   "outputs": [
    {
     "name": "stdout",
     "output_type": "stream",
     "text": [
      "Ideal number of hampers = 25.3418 = 25 hampers\n"
     ]
    }
   ],
   "source": [
    "target_hamper_value = 5000\n",
    "\n",
    "# We can make n_hampers_unrounded hampers if all hampers are the target value\n",
    "n_hampers_unrounded = total_item_value / target_hamper_value\n",
    "# Round to nearest whole number since we can't make a fraction of a hamper\n",
    "n_hampers = round(n_hampers_unrounded)\n",
    "\n",
    "print(f\"Ideal number of hampers = {n_hampers_unrounded} = {n_hampers} hampers\")"
   ]
  },
  {
   "cell_type": "markdown",
   "metadata": {},
   "source": [
    "### Best possible sum cost difference\n",
    "The amount we had to round up/down by represents the fraction of a hamper that is either taken from the other hampers (if we round up) or distributed among the other hampers (if we round down). Thereofre we can calculate the theoretical best sum cost difference by multiplying the rounding amount by 5000. "
   ]
  },
  {
   "cell_type": "code",
   "execution_count": 5,
   "metadata": {},
   "outputs": [
    {
     "name": "stdout",
     "output_type": "stream",
     "text": [
      "Ideal sum cost diff = ¥1709\n"
     ]
    }
   ],
   "source": [
    "rounding_amount = n_hampers_unrounded - n_hampers\n",
    "cost_diff2 = abs(round(rounding_amount*5000))\n",
    "\n",
    "print(f\"Ideal sum cost diff = ¥{cost_diff2}\")"
   ]
  },
  {
   "cell_type": "markdown",
   "metadata": {},
   "source": [
    "### Sum cost difference vs Number of hampers\n",
    "The theoretical best sum cost difference can also be calculated as follows for any number of hampers.\n",
    "\n",
    "$$ \\Delta = | \\sum_{i=1}^{n_{i}}p_{item} -  n_{hampers} \\times 5000 | $$\n",
    "\n",
    "This allows use to calculate the sum cost difference for a range of hamper numbers. In a real world scenario this would be worth looking at to understand the trade-off between number of hampers and sum cost difference (e.g. we may tolerate a slightly higher sum cost difference if we can make an additional hamper)."
   ]
  },
  {
   "cell_type": "code",
   "execution_count": 6,
   "metadata": {},
   "outputs": [
    {
     "data": {
      "text/plain": [
       "array([26709, 21709, 16709, 11709,  6709,  1709,  3291,  8291, 13291,\n",
       "       18291, 23291])"
      ]
     },
     "execution_count": 6,
     "metadata": {},
     "output_type": "execute_result"
    }
   ],
   "source": [
    "hampers = np.arange(20, 31)"
   ]
  },
  {
   "cell_type": "markdown",
   "metadata": {},
   "source": [
    "The values calculated above are plotted against the corresponding number of hampers below."
   ]
  },
  {
   "cell_type": "code",
   "execution_count": 7,
   "metadata": {},
   "outputs": [
    {
     "data": {
      "image/png": "[encoded data removed]",
      "text/plain": [
       "<Figure size 576x288 with 1 Axes>"
      ]
     },
     "metadata": {
      "needs_background": "light"
     },
     "output_type": "display_data"
    }
   ],
   "source": []
  },
  {
   "cell_type": "markdown",
   "metadata": {},
   "source": [
    "## 3. Building the Genetic Algorithm <a name=\"building_ga\"></a>\n",
    "\n",
    "A Genetic Algorithm is a type of evolutionary algorithm that was inspired by natural selection. This algorithm will look to evolve an initial set of possible solutions (in this case randomised) to an optimised solution. It does this by \"breeding\" and \"mutating\" the best solutions (refered to as chromosomes) over multiple generations. \n",
    "\n",
    "A genetic algorithm takes the following steps. Each of these will be explained below along with the key bits of code.\n",
    "\n",
    "<img src=\"./assets/GAProcessDiagram.png\" width=300/>"
   ]
  },
  {
   "cell_type": "markdown",
   "metadata": {},
   "source": [
    "### The Chromosome\n",
    "\n",
    "The chromosome is how we encode our decision space for the Genetic Algorithm. How we decide to do this will have a significant bearing on the crossover and mutation steps. The values in the chromosome are called genes and are most commonly encoded using binary encoding e.g.\n",
    "\n",
    "```\n",
    "[0, 1, 0, 1, 1]\n",
    "```\n",
    "\n",
    "Other types of encoding are also used. In the case of this problem there are a number of ways we could approach the chromosome and it is not immediately obvious which is the best. I've decided on a 2d chromosome structure where the genes (items) indicate whether an item is within a hamper or not. Each row in the structure is an individual hamper and a column is an item. Below is a representation of this for 5 hampers made from 4 different items.\n",
    "\n",
    "```\n",
    "      [0, 1, 0, 1]\n",
    "items [1, 1, 0, 0]\n",
    "      [1, 0, 0, 1] \n",
    "        hampers\n",
    "```"
   ]
  },
  {
   "cell_type": "markdown",
   "metadata": {},
   "source": [
    "###  Initialisation\n",
    "\n",
    "A genetic algorithm requires a population of solutions (chromosomes) to begin working with. These will be created randomly within the constraints of our problem. For each item we randomly set a certain number of genes to be 1 (i.e. the item is in the corresponding hamper). The number of genes that are 1 for an item is equal to the units of that item that are available. The function below creates a random solution for a single row of a chromosome (i.e. a single item)."
   ]
  },
  {
   "cell_type": "code",
   "execution_count": 8,
   "metadata": {},
   "outputs": [
    {
     "data": {
      "text/plain": [
       "array([0, 1, 0, 1, 1])"
      ]
     },
     "execution_count": 8,
     "metadata": {},
     "output_type": "execute_result"
    }
   ],
   "source": [
    "def randomly_distribute_item(num_hampers: int, num_units: int) -> np.ndarray:\n",
    "    # All hampers that don't have the item should be zero\n",
    "    num_zeros = num_hampers - num_units\n",
    "\n",
    "    # Want the number of zeros in the hamper to be equal to the number of units of an item\n",
    "    item_arr = np.array([0] * num_zeros + [1] * num_units)\n",
    "\n",
    "    # Distribution amongst hampers should be random so we have multiple different solutions\n",
    "    rng = np.random.default_rng()\n",
    "    rng.shuffle(item_arr)\n",
    "\n",
    "    return item_arr\n",
    "\n",
    "randomly_distribute_item(5, 3)"
   ]
  },
  {
   "cell_type": "markdown",
   "metadata": {},
   "source": [
    "### Fitness\n",
    "\n",
    "Once we have an initial population to work with, we need a way of working out which solutions are best. This is done using a fitness calculation. In this case our's was pretty clearly defined in the problem. i.e. minimising the sum of the absolute difference of hamper cost from 5000 across all hampers. Mathematically this can be represented as\n",
    "\n",
    "$$ Fitness = \\sum_{i=1}^{n_{hampers}} | 5000 - \\sum_{j=1}^{n_{items}} price_{j} | $$\n",
    "\n",
    "Taking advantage of the binary encoded matrices that are our chromosomes we can calculate the cost of each hamper by computing the dot product of the item values and the chromosome. This works because the product effectively replaces the 1s (where there are items) with the values of the item and leaves the 0s and 0. Doing the dot product sums these products along each hamper, calculated the cost of that hamper.\n",
    "\n",
    "$$\n",
    "costs = \\begin{bmatrix}2 & 3 & 4\\end{bmatrix} \\cdot \\begin{bmatrix}\n",
    "1 & 0 & 0\\\\\n",
    "1 & 1 & 0\\\\\n",
    "0 & 1 & 1\n",
    "\\end{bmatrix} \\\n",
    "= \\begin{bmatrix}5 & 7 & 4\\end{bmatrix}\n",
    "$$\n",
    "\n",
    "Aside from making us look fancy and keeping our function small, the advantage of this approach is that it is entirely based in numpy arrays and opperations, which are significantly faster that using lists etc. thanks to the C/C++/FORTRAN code that is behind numpy."
   ]
  },
  {
   "cell_type": "code",
   "execution_count": 11,
   "metadata": {},
   "outputs": [],
   "source": [
    "def fitness_calc(\n",
    "    chromosome: np.ndarray,\n",
    "    item_values: np.ndarray,\n",
    "    target_hamper_value: float\n",
    ") -> float:\n",
    "    # Since our genes are binary multiplying by an array of values\n",
    "    # replaces 1s with the value of the item\n",
    "    hamper_value = np.dot(item_values, chromosome)\n",
    "    \n",
    "    # Aim is to minimise the sum of the absolute diff therefore smaller is better\n",
    "    diff = np.abs(hamper_value - target_hamper_value)\n",
    "    return diff.sum()"
   ]
  },
  {
   "cell_type": "markdown",
   "metadata": {},
   "source": [
    "### Selection\n",
    "\n",
    "Now we have a function for determining fitness of a solution we now need to write a function that selects solutions to use a parents for the next generation."
   ]
  },
  {
   "cell_type": "code",
   "execution_count": 12,
   "metadata": {},
   "outputs": [],
   "source": [
    "def selection(fitness: np.ndarray, num_parents: int, population: list) -> list:\n",
    "    \"\"\"Select the fittest solutions to use as parents for the next generation.\"\"\"\n",
    "    population_arr = np.array(population)\n",
    "    fitness_idx = fitness.argsort()\n",
    "    sorted_population = population_arr[fitness_idx]\n",
    "    \n",
    "    return sorted_population[0:num_parents]"
   ]
  },
  {
   "cell_type": "markdown",
   "metadata": {},
   "source": [
    "### Crossover\n",
    "\n",
    "Crossover is the process of combining the genetic information of two parent solution to produce new, different solutions to the problem. There are a number of ways to do this."
   ]
  },
  {
   "cell_type": "code",
   "execution_count": 46,
   "metadata": {},
   "outputs": [],
   "source": [
    "def make_offspring(\n",
    "    parent1: np.ndarray,\n",
    "    parent2: np.ndarray,\n",
    "    crossover_point: int\n",
    ") -> Tuple[np.ndarray, np.ndarray]:\n",
    "    x, y = parent1.shape\n",
    "    # Flat arrays make it easier to split and combine the parent arrays\n",
    "    parent1_flat = parent1.reshape(x * y)\n",
    "    parent2_flat = parent2.reshape(x * y)\n",
    "    \n",
    "    # Crossover to make offspring    \n",
    "    offspring1_flat = np.append(parent1_flat[0:cross], parent2_flat[cross:])\n",
    "    offspring2_flat = np.append(parent2_flat[0:cross], parent1_flat[cross:])\n",
    "    \n",
    "    # Return offspring with original 2D shape\n",
    "    return (offspring1_flat.reshape(x, y), offspring2_flat.reshape(x, y))"
   ]
  },
  {
   "cell_type": "markdown",
   "metadata": {},
   "source": [
    "An issue with this is that it will more often than not create an illegal solution. This happens when the chromosome is split in the middle of a row. It is likely that we will end up with more or less items than we have available."
   ]
  },
  {
   "cell_type": "code",
   "execution_count": null,
   "metadata": {},
   "outputs": [],
   "source": [
    "def repair(chromosome: np.ndarray, item_values:np.ndarray, crossover_point: int):\n",
    "    \"\"\"Fix illegal solutions by adding or removing items from illegal hampers.\"\"\"\n",
    "    # Remove items if there are too many\n",
    "    # Remove items from hampers with the largest cost\n",
    "    hamper_values = np.dot(item_values, chromosome)\n",
    "    \n",
    "    # Add items if there aren't enough items\n",
    "    # Add items to hampers with the lowest cost\n",
    "    return"
   ]
  },
  {
   "cell_type": "code",
   "execution_count": null,
   "metadata": {},
   "outputs": [],
   "source": [
    "def crossover(chromosome: np.ndarray, item_values):\n",
    "    # We want to split the parent arrays at a random point\n",
    "    cross = random.randint(0, x * y)\n",
    "    \n",
    "    make_offspring()\n",
    "    \n",
    "    repair()"
   ]
  },
  {
   "cell_type": "markdown",
   "metadata": {},
   "source": [
    "### Mutation"
   ]
  },
  {
   "cell_type": "markdown",
   "metadata": {},
   "source": [
    "### Termination"
   ]
  },
  {
   "cell_type": "markdown",
   "metadata": {},
   "source": [
    "## 4. Running the Genetic Algorithm <a name=\"running_ga\"></a>"
   ]
  },
  {
   "cell_type": "code",
   "execution_count": null,
   "metadata": {},
   "outputs": [],
   "source": []
  }
 ],
 "metadata": {
  "kernelspec": {
   "display_name": "Python 3 (ipykernel)",
   "language": "python",
   "name": "python3"
  },
  "language_info": {
   "codemirror_mode": {
    "name": "ipython",
    "version": 3
   },
   "file_extension": ".py",
   "mimetype": "text/x-python",
   "name": "python",
   "nbconvert_exporter": "python",
   "pygments_lexer": "ipython3",
   "version": "3.10.5"
  }
 },
 "nbformat": 4,
 "nbformat_minor": 4
}
