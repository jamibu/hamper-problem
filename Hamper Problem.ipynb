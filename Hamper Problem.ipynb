{
 "cells": [
  {
   "cell_type": "markdown",
   "metadata": {},
   "source": [
    "# Hamper Problem - Solving with a Genetic Algorithm\n",
    "\n",
    "I was posed an interesting problem by a co-worker (who had come across it somewhere online, I'm not sure of the source). I will outline the specifics of the problem below, but in short it is an optimisation problem. In reality there are better algorithms for solving this specific problem given the information that we have available, but I have been reading about the use of Genetic Algorithms (specifically in hyperparameter optimisation and neuro-evolutionary learning) and figured that this was a good excuse to try writing one myself.\n",
    "\n",
    "The problem that I'll be solving was proposed as follows:\n",
    "\n",
    ">A charity purchased some bulk packs, each pack contains 1 or more items. They want to put together as many hampers as they can, with the costs ideally of ¥5000, and they're all as even as possible, so minimise the sum of the absolute difference of the hamper cost to 5000 across all hampers. Design the hampers with no duplicate items.\n",
    "\n",
    "Please also note that the code in this notebook has been structured to work well in a notebook/blog format, its purpose is to examine/demonstrate how a Genetic Algorithm works and how I applied it to this problem, as opposed to being proper production code.\n",
    "\n",
    "### Table of Contents\n",
    "\n",
    " 1. [Problem outline](#problem_outline)\n",
    " 2. [Data](#data)\n",
    " 3. [Initial Processing](#initial_processing)\n",
    " 4. [Building the Genetic Algorithm](#bulding_ga)\n",
    " 5. [Running the Genetic Algorithm](#running_ga)\n",
    " \n",
    "\n",
    "## 1. Problem outline <a name=\"problem_outline\"></a>\n",
    "\n",
    "Here is my summary of the problem based on the provided information. There are some points that I would want to discuss/clarify in a real world scenario, but I have made some logical assumptions for these so I can solve the problem.\n",
    "\n",
    "__Goals:__\n",
    "* Make multiple hampers from the items in the bulk packs\n",
    "* Minimise the sum of the absolute difference from ¥5000 for the total cost of the hampers \n",
    "* Maximise the number of hampers (I'm assuming the above always takes priority, so this is really a moot point)\n",
    "\n",
    "__Constraints:__\n",
    "* Hampers cannot contain duplicate items\n",
    "* Limited to the number of units specified in the data (i.e. can't exceed this)\n",
    "* All items must be used (assumed)\n",
    "\n",
    "__Output:__\n",
    "* Sum of the absolute difference of hamper cost from ¥5000 across all hampers\n",
    "* Number of hampers that produces the best result\\\n",
    "* The items in each hamper\n",
    "\n",
    "All libraries that are used in this notebook are imported below."
   ]
  },
  {
   "cell_type": "code",
   "execution_count": 1,
   "metadata": {},
   "outputs": [],
   "source": [
    "import json\n",
    "from random import randint\n",
    "\n",
    "from tabulate import tabulate\n",
    "import matplotlib.pyplot as plt\n",
    "import numpy as np\n",
    "import pandas as pd\n",
    "import random as rd\n",
    "import seaborn as sns\n",
    "\n",
    "sns.set_style(\"darkgrid\")"
   ]
  },
  {
   "cell_type": "markdown",
   "metadata": {},
   "source": [
    "## 2. Data <a name=\"data\"></a>\n",
    "A CSV file has been provided for this problem containing information on the \"bulk packs\" that the charity has purchased. I have calculated the \"total units\" and \"price per unit\" in advance, we'll need to know these to solve the problem. I'll read the data into a pandas dataframe. You can see the last 5 items below (there are 15 in total)."
   ]
  },
  {
   "cell_type": "code",
   "execution_count": 2,
   "metadata": {},
   "outputs": [
    {
     "data": {
      "text/html": [
       "<div>\n",
       "<style scoped>\n",
       "    .dataframe tbody tr th:only-of-type {\n",
       "        vertical-align: middle;\n",
       "    }\n",
       "\n",
       "    .dataframe tbody tr th {\n",
       "        vertical-align: top;\n",
       "    }\n",
       "\n",
       "    .dataframe thead th {\n",
       "        text-align: right;\n",
       "    }\n",
       "</style>\n",
       "<table border=\"1\" class=\"dataframe\">\n",
       "  <thead>\n",
       "    <tr style=\"text-align: right;\">\n",
       "      <th></th>\n",
       "      <th>item</th>\n",
       "      <th>brand</th>\n",
       "      <th>units per pack</th>\n",
       "      <th>price per pack</th>\n",
       "      <th>quantity of packs</th>\n",
       "      <th>total units</th>\n",
       "      <th>price per unit</th>\n",
       "    </tr>\n",
       "  </thead>\n",
       "  <tbody>\n",
       "    <tr>\n",
       "      <th>10</th>\n",
       "      <td>Tea</td>\n",
       "      <td>Superior</td>\n",
       "      <td>5</td>\n",
       "      <td>2720</td>\n",
       "      <td>2</td>\n",
       "      <td>10</td>\n",
       "      <td>544.0</td>\n",
       "    </tr>\n",
       "    <tr>\n",
       "      <th>11</th>\n",
       "      <td>Tofu</td>\n",
       "      <td>Gourmet Choice</td>\n",
       "      <td>1</td>\n",
       "      <td>1580</td>\n",
       "      <td>10</td>\n",
       "      <td>10</td>\n",
       "      <td>1580.0</td>\n",
       "    </tr>\n",
       "    <tr>\n",
       "      <th>12</th>\n",
       "      <td>Tomato sauce</td>\n",
       "      <td>Best Family</td>\n",
       "      <td>1</td>\n",
       "      <td>190</td>\n",
       "      <td>10</td>\n",
       "      <td>10</td>\n",
       "      <td>190.0</td>\n",
       "    </tr>\n",
       "    <tr>\n",
       "      <th>13</th>\n",
       "      <td>UHT milk</td>\n",
       "      <td>Atlantic</td>\n",
       "      <td>6</td>\n",
       "      <td>4560</td>\n",
       "      <td>2</td>\n",
       "      <td>12</td>\n",
       "      <td>760.0</td>\n",
       "    </tr>\n",
       "    <tr>\n",
       "      <th>14</th>\n",
       "      <td>Vegetable oil</td>\n",
       "      <td>Crafco</td>\n",
       "      <td>12</td>\n",
       "      <td>10020</td>\n",
       "      <td>1</td>\n",
       "      <td>12</td>\n",
       "      <td>835.0</td>\n",
       "    </tr>\n",
       "  </tbody>\n",
       "</table>\n",
       "</div>"
      ],
      "text/plain": [
       "             item           brand  units per pack  price per pack  \\\n",
       "10            Tea        Superior               5            2720   \n",
       "11           Tofu  Gourmet Choice               1            1580   \n",
       "12   Tomato sauce     Best Family               1             190   \n",
       "13       UHT milk        Atlantic               6            4560   \n",
       "14  Vegetable oil          Crafco              12           10020   \n",
       "\n",
       "    quantity of packs  total units  price per unit  \n",
       "10                  2           10           544.0  \n",
       "11                 10           10          1580.0  \n",
       "12                 10           10           190.0  \n",
       "13                  2           12           760.0  \n",
       "14                  1           12           835.0  "
      ]
     },
     "execution_count": 2,
     "metadata": {},
     "output_type": "execute_result"
    }
   ],
   "source": [
    "df = pd.read_csv(\"CharityBulkPurchaseList.csv\")\n",
    "df.tail()"
   ]
  },
  {
   "cell_type": "markdown",
   "metadata": {},
   "source": [
    "We'll also need to know the total amount spent on all of these items in the section below so I'll calculate that here."
   ]
  },
  {
   "cell_type": "code",
   "execution_count": 3,
   "metadata": {},
   "outputs": [
    {
     "name": "stdout",
     "output_type": "stream",
     "text": [
      "Total value of all items: ¥126709\n"
     ]
    }
   ],
   "source": [
    "# Price per pack x quantity of packs gives us the value of all units of that item\n",
    "# The sum of this gives the total value of all items bought by the charity\n",
    "total_item_value = ( df[\"price per pack\"] * df[\"quantity of packs\"] ).sum()\n",
    "\n",
    "print(f\"Total value of all items: ¥{total_item_value}\")"
   ]
  },
  {
   "cell_type": "markdown",
   "metadata": {},
   "source": [
    "## 3. Initial Processing <a name=\"intial_processing\"></a>\n",
    "We can use the data above to determine the ideal number of hampers and the best possible sum absolute cost diff, without working out what is actually in the hampers. This will help narrow our search space and help us evaluate how the algorithm is performing.\n",
    "\n",
    "### Estimating the ideal number of hampers\n",
    "\n",
    "If we simply treat this as an exercise of puting money in the hampers we can easily determine the ideal number of hampers. We want each hamper to be worth ¥5000 (or as close to this as possible), therefore we can divide the total cost of all items by 5000 to work out how many hampers we can make that are worth ¥5000."
   ]
  },
  {
   "cell_type": "code",
   "execution_count": 4,
   "metadata": {},
   "outputs": [
    {
     "name": "stdout",
     "output_type": "stream",
     "text": [
      "Ideal number of hampers = 25.3418 = 25 hampers\n"
     ]
    }
   ],
   "source": [
    "target_hamper_value = 5000\n",
    "\n",
    "# We can make n_hampers_unrounded hampers if all hampers are the target value\n",
    "n_hampers_unrounded = total_item_value / target_hamper_value\n",
    "# Round to nearest whole number since we can't make a fraction of a hamper\n",
    "n_hampers = round(n_hampers_unrounded)\n",
    "\n",
    "print(f\"Ideal number of hampers = {n_hampers_unrounded} = {n_hampers} hampers\")"
   ]
  },
  {
   "cell_type": "markdown",
   "metadata": {},
   "source": [
    "### Calculating the lowest possible difference\n",
    "\n",
    "Note that we had to round the number above to get to a whole number (since we can't put an item in .3418 of a hamper). This means that we will have some money/items left over after getting all our hampers to be worth ¥5000. Since we need to use all items we'll need to distribute these between the hampers. The money that is left over is the best possible sum of the absolute difference of hamper cost from ¥5000 across all hampers."
   ]
  },
  {
   "cell_type": "code",
   "execution_count": 5,
   "metadata": {},
   "outputs": [
    {
     "name": "stdout",
     "output_type": "stream",
     "text": [
      "Ideal sum absolute cost diff = ¥1709\n"
     ]
    }
   ],
   "source": [
    "rounding_amount = n_hampers_unrounded - n_hampers\n",
    "target_cost_diff = abs(round(rounding_amount*5000))\n",
    "\n",
    "print(f\"Ideal sum absolute cost diff = ¥{target_cost_diff}\")"
   ]
  },
  {
   "cell_type": "markdown",
   "metadata": {},
   "source": [
    "This \"ideal\" value may not necessarily be achievable depending on the exact prices an amounts of items but it gives us something to benchmark against and a point to stop at if necessary."
   ]
  },
  {
   "cell_type": "markdown",
   "metadata": {},
   "source": [
    "### Sum absolute cost diff vs Number of hampers\n",
    "\n",
    "Below I've calculated the sum of abs diff from 5000 across all hampers for a number of different number of hampers. This uses the equation below, which is more or less the same as what we did above.\n",
    "\n",
    "$$ \\Delta = | \\sum_{i=1}^{n_{i}}p_{item} -  n_{hampers} \\times 5000 | $$\n",
    "\n",
    "This plot shows that 25 hampers is by far the best number of hampers."
   ]
  },
  {
   "cell_type": "code",
   "execution_count": 11,
   "metadata": {},
   "outputs": [
    {
     "data": {
      "text/plain": [
       "Text(0, 0.5, 'Sum of abs diff from 5000')"
      ]
     },
     "execution_count": 11,
     "metadata": {},
     "output_type": "execute_result"
    },
    {
     "data": {
      "image/png": "[encoded data removed]",
      "text/plain": [
       "<Figure size 432x288 with 1 Axes>"
      ]
     },
     "metadata": {
      "needs_background": "light"
     },
     "output_type": "display_data"
    }
   ],
   "source": [
    "%matplotlib inline\n",
    "\n",
    "hampers = np.array([22, 23, 24, 25, 26, 27, 28])\n",
    "cost_diff = np.abs(total_item_value - hampers * 5000)\n",
    "\n",
    "fig, ax = plt.subplots()\n",
    "ax.plot(hampers, cost_diff)\n",
    "ax.set_xlabel(\"Number of hampers\")\n",
    "ax.set_ylabel(\"Sum of abs diff from 5000\")"
   ]
  },
  {
   "cell_type": "markdown",
   "metadata": {},
   "source": [
    "## 4. Building the Genetic Algorithm <a name=\"building_ga\"></a>\n",
    "\n",
    "A Genetic Algorithm is a type of evolutionary algorithm that was inspired by natural selection. This algorithm will look to evolve an initial set of possible solutions (in this case randomised) to an optimised solution. It does this by \"breeding\" and \"mutating\" the best solutions (refered to as chromosomes) over multiple generations. \n",
    "\n",
    "The Genetic Algorithm used for this problem will take the following steps (This is visualised in the diagram below):\n",
    "* __Step 1 - Initialise population__: This is done at the start of the process and provides an initial population of solutions for the algorithm to work with. In this case it will be a set of psuedo-random solutions that fit the constraits of the problem (e.g. no duplicate items in a hamper).\n",
    "* __Step 2 - Fitness calculation__: The fitness calculation provides a metric to score which chromosomes are performing the best. In this case it will be the sum of the absolute difference from 5000 across all hampers.\n",
    "* __Step 3 - Check if it should terminate__: Determine if the target fitness has been met or some other limit reached (e.g. total number of generations or no improvement in n generations).\n",
    "* __Step 4 - Selection__: Select the fittest solutions to make the next generation\n",
    "* __Step 5 - Crossover__: Combine fittest \"parent\" solutions to create new solutions (parents will also be in the next generation)\n",
    "* __Step 6 - Mutation__: Randomly change parts of the solutions for some of the new population.\n",
    "* __Repeat from Step 2__ until a termination criterum is met\n",
    "\n",
    "<img src=\"./GAProcessDiagram.png\" width=300/>\n",
    "\n",
    "Note: Genetic Algorithms will find __an__ optimised solution not always the most optimal solution. They can potentially give different answers each time they are run. There are other approaches better suited to finding the most optimal solution (and more efficient approaches), but I wanted to play around with this kind of algorithm."
   ]
  },
  {
   "cell_type": "markdown",
   "metadata": {},
   "source": [
    "### The Chromosome"
   ]
  },
  {
   "cell_type": "code",
   "execution_count": 7,
   "metadata": {},
   "outputs": [
    {
     "name": "stdout",
     "output_type": "stream",
     "text": [
      "[[0, 2], [0, 1], [0], [1, 2], [1, 2]]\n"
     ]
    },
    {
     "data": {
      "text/plain": [
       "[[0, 1, 1, 0]]"
      ]
     },
     "execution_count": 7,
     "metadata": {},
     "output_type": "execute_result"
    }
   ],
   "source": [
    "def chromosome_to_hampers(chromosome: list, num_hampers: int) -> list:\n",
    "    # Item in hamper shouldn't be greater than the number of hampers\n",
    "    if any(hamper > num_hampers - 1 for pack in chromosome for hamper in pack):\n",
    "        msg = f\"Hamper in chromosome is greater than num_hampers {num_hampers}\"\n",
    "        raise Exception(msg)\n",
    "\n",
    "    # Empty hampers to add items into\n",
    "    hampers = [[] for _ in range(num_hampers)]\n",
    "\n",
    "    # Iterate through chromosome to put items into their hampers\n",
    "    for i, pack in enumerate(chromosome):\n",
    "        for assigned_hamper in pack:\n",
    "            hampers[assigned_hamper].append(i)\n",
    "\n",
    "    return hampers\n",
    "\n",
    "\n",
    "hampers = chromosome_to_hampers([[0,1,2],[3,4,1],[0,4,3]], 5)\n",
    "print(hampers)\n",
    "\n",
    "[[0, 1, 1, 0]]"
   ]
  },
  {
   "cell_type": "markdown",
   "metadata": {},
   "source": [
    "###  Initialisation\n",
    "\n",
    "The genetic algorithm will need an inital set of solutions to optimised. These will be created by randomly assigning items to hampers. It will be important to do this in a way that ensure the hampers that are created are valid (i.e. no duplicate items) otherwise there is the potential for many or all of the random solutions to be invalid which can significantly slow down the optimisation.\n",
    "\n",
    "This is done by keeping track of the hampers that an item can be added to (i.e. hampers that don't already contain that item)."
   ]
  },
  {
   "cell_type": "code",
   "execution_count": 8,
   "metadata": {},
   "outputs": [],
   "source": [
    "def make_random_solution(num_hampers: int, item_lookup: dict) -> list:\n",
    "    solutions = []\n",
    "    for item in item_lookup:\n",
    "        num_units = item_lookup[item][\"total units\"]\n",
    "        pack = randomly_distribute_pack(num_units, num_hampers)\n",
    "        solutions.append(pack)\n",
    "\n",
    "    return solutions\n",
    "\n",
    "\n",
    "def randomly_distribute_pack(num_units: int, num_hampers: int) -> list:\n",
    "    # Will track which hampers an item can be assigned to.\n",
    "    hamper_options = list(range(1, num_hampers + 1))\n",
    "\n",
    "    # Go through each unit of an item and distribute it to a hamper\n",
    "    item_assignments = []\n",
    "    for i in range(num_units):\n",
    "        # Randomly select a hamper from the available hampers to assign the item to\n",
    "        available_hampers = len(hamper_options) - 1\n",
    "        hamper_idx = randint(0, available_hampers)\n",
    "\n",
    "        # Remove the hamper as it is no longer available\n",
    "        hamper = hamper_options.pop(hamper_idx)\n",
    "\n",
    "        item_assignments.append(hamper)\n",
    "\n",
    "    return item_assignments"
   ]
  },
  {
   "cell_type": "markdown",
   "metadata": {},
   "source": [
    "### Fitness\n",
    "\n",
    "Once we have an initial population to work with, we need a way of assessing the fitness of a given solution. \n",
    "We then need to assign a score based on the sum absolute difference of the hampers from the target value of 5000. To do this will we calculate the ideal sum value of the hampers $(5000 \\times n_{hampers})$. Our fitness score will be based on how far from this we are. So we will be aiming to maximise the equation below.\n",
    "\n",
    "$$ 5000 \\times n_{hampers} - \\sum_{i=1}^{n_{hampers}} | 5000 - \\sum_{i=1}^{n_{i}} price_i | $$\n",
    "\n",
    "Solutions that are invalid are given a fitness of 0."
   ]
  },
  {
   "cell_type": "code",
   "execution_count": 9,
   "metadata": {},
   "outputs": [],
   "source": [
    "def calc_fitness(\n",
    "    chromosome: list,\n",
    "    item_lookup: dict,\n",
    "    num_hampers: int,\n",
    "    target_hamper_value: float\n",
    ") -> float:\n",
    "    # Make hampers from chromosome so we can calculate their value\n",
    "    hampers = chromosome_to_hampers(chromosome, num_hampers)\n",
    "\n",
    "    # Hamper value for all hampers in solution so we can find the sum of the absolute\n",
    "    hamper_values = [calc_hamper_value(hamper, item_lookup) for hamper in hampers]\n",
    "\n",
    "    # difference from 5000 across all hampers\n",
    "    diffs = [abs(value - target_hamper_value) for value in hamper_values]\n",
    "\n",
    "    return sum(diffs)"
   ]
  },
  {
   "cell_type": "markdown",
   "metadata": {},
   "source": [
    "### Selection\n",
    "\n",
    "Now we have a function for determining fitness of a solution we now need to write a function that selects solutions to use a parents for the next generation."
   ]
  },
  {
   "cell_type": "code",
   "execution_count": 10,
   "metadata": {},
   "outputs": [],
   "source": [
    "def selection(fitness: list, num_parents: int, population: list) -> list:\n",
    "    \"\"\"Select the fittest solutions to use as parents for the next generation.\"\"\"\n",
    "    # Predefine array of indivduals that will be parents for the next generation\n",
    "    parents = np.empty((num_parents, population.shape[1]))\n",
    "    for i in range(num_parents):\n",
    "        # Finding the fittest solution\n",
    "        max_fitness_idx = np.where(fitness == np.max(fitness))\n",
    "        parents[i,:] = population[max_fitness_idx[0][0], :]\n",
    "        # Ensuring this solution is not selected next time\n",
    "        fitness[max_fitness_idx[0][0]] = -999999\n",
    "    return parents"
   ]
  },
  {
   "cell_type": "markdown",
   "metadata": {},
   "source": [
    "### Crossover"
   ]
  },
  {
   "cell_type": "markdown",
   "metadata": {},
   "source": [
    "### Mutation"
   ]
  },
  {
   "cell_type": "markdown",
   "metadata": {},
   "source": [
    "### Termination"
   ]
  },
  {
   "cell_type": "markdown",
   "metadata": {},
   "source": [
    "## 5. Running the Genetic Algorithm <a name=\"running_ga\"></a>"
   ]
  }
 ],
 "metadata": {
  "kernelspec": {
   "display_name": "Python 3 (ipykernel)",
   "language": "python",
   "name": "python3"
  },
  "language_info": {
   "codemirror_mode": {
    "name": "ipython",
    "version": 3
   },
   "file_extension": ".py",
   "mimetype": "text/x-python",
   "name": "python",
   "nbconvert_exporter": "python",
   "pygments_lexer": "ipython3",
   "version": "3.10.0"
  }
 },
 "nbformat": 4,
 "nbformat_minor": 4
}
