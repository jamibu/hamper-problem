{
 "cells": [
  {
   "cell_type": "markdown",
   "metadata": {},
   "source": [
    "# Hamper Problem - Solving with a Genetic Algorithm\n",
    "\n",
    "I was posed an interesting problem by a co-worker (who had come across it somewhere online, I'm not sure of the source). I will outline the specifics of the problem below, but in short it is an optimisation problem. I had been reading about the use of Genetic Algorithms at the time (specifically in hyperparameter optimisation and neuro-evolutionary learning) and figured that this problem was a good excuse to code up one myself.\n",
    "\n",
    "The problem that I'll be solving was proposed as follows:\n",
    "\n",
    ">A charity purchased some bulk packs, each pack contains 1 or more items. They want to put together as many hampers as they can, with the costs ideally of 5000, and they're all as even as possible, so minimise the sum of the absolute difference of the hamper cost to 5000 across all hampers. Design the hampers with no duplicate items.\n",
    "\n",
    "Please note that the code in this notebook has been structured to work well in a notebook/blog format, its purpose is to examine/demonstrate how a Genetic Algorithm works and how I applied it to this problem, it does not reflect how I would write the code for a production type usecase. A better structured, standalone version of the code is available in the Github Repo for this project.\n",
    "\n",
    "\n",
    "## 1. Problem outline\n",
    "\n",
    "Here is my summary of the problem based on the provided information. There are some points that I would want to discuss/clarify in a real world scenario, but I have made some logical assumptions for these so I can solve the problem . Note that no units for the price were provided so we'll avoid assigning any.\n",
    "\n",
    "__Goals:__\n",
    "* Make multiple hampers from the items in the bulk packs\n",
    "* Minimise the sum of the absolute difference from 5000 for the total cost of the hampers \n",
    "* Maximise the number of hampers (I'm assuming the above always takes priority, so this is really a moot point)\n",
    "\n",
    "__Constraints:__\n",
    "* Hampers cannot contain duplicate items\n",
    "* Limited to the number of units specified in the data (i.e. can't exceed this)\n",
    "* All items must be used (assumed)\n",
    "\n",
    "__Output:__\n",
    "* Number of hampers\n",
    "* Sum of the absolute difference of hamper cost from 5000 across all hampers (we'll refer to this as sum cost difference from here on for brevity)\n",
    "* The items in each hamper\n",
    "\n",
    "All libraries that are used in this notebook are imported below."
   ]
  },
  {
   "cell_type": "code",
   "execution_count": 1,
   "metadata": {},
   "outputs": [],
   "source": [
    "import json\n",
    "from random import randint\n",
    "\n",
    "from tabulate import tabulate\n",
    "import matplotlib.pyplot as plt\n",
    "import numpy as np\n",
    "import pandas as pd\n",
    "import random as rd\n",
    "import seaborn as sns\n",
    "\n",
    "sns.set_style(\"darkgrid\")"
   ]
  },
  {
   "cell_type": "markdown",
   "metadata": {},
   "source": [
    "## 2. Pre-processing the Data\n",
    "A CSV file has been provided for this problem containing information on the \"bulk packs\" that have been purchased. I'll use this information to add columns for the total number of units of each item and the cost per unit, which will be needed to solve the problem."
   ]
  },
  {
   "cell_type": "code",
   "execution_count": 2,
   "metadata": {},
   "outputs": [
    {
     "data": {
      "text/html": [
       "<div>\n",
       "<style scoped>\n",
       "    .dataframe tbody tr th:only-of-type {\n",
       "        vertical-align: middle;\n",
       "    }\n",
       "\n",
       "    .dataframe tbody tr th {\n",
       "        vertical-align: top;\n",
       "    }\n",
       "\n",
       "    .dataframe thead th {\n",
       "        text-align: right;\n",
       "    }\n",
       "</style>\n",
       "<table border=\"1\" class=\"dataframe\">\n",
       "  <thead>\n",
       "    <tr style=\"text-align: right;\">\n",
       "      <th></th>\n",
       "      <th>item</th>\n",
       "      <th>brand</th>\n",
       "      <th>units per pack</th>\n",
       "      <th>price per pack</th>\n",
       "      <th>quantity of packs</th>\n",
       "      <th>total units</th>\n",
       "      <th>price per unit</th>\n",
       "      <th>total item cost</th>\n",
       "    </tr>\n",
       "  </thead>\n",
       "  <tbody>\n",
       "    <tr>\n",
       "      <th>0</th>\n",
       "      <td>Bleach</td>\n",
       "      <td>Blanchite</td>\n",
       "      <td>5</td>\n",
       "      <td>3550</td>\n",
       "      <td>2</td>\n",
       "      <td>10</td>\n",
       "      <td>710.0</td>\n",
       "      <td>7100.0</td>\n",
       "    </tr>\n",
       "    <tr>\n",
       "      <th>1</th>\n",
       "      <td>Chickpeas</td>\n",
       "      <td>Southern Style</td>\n",
       "      <td>2</td>\n",
       "      <td>2600</td>\n",
       "      <td>5</td>\n",
       "      <td>10</td>\n",
       "      <td>1300.0</td>\n",
       "      <td>13000.0</td>\n",
       "    </tr>\n",
       "    <tr>\n",
       "      <th>2</th>\n",
       "      <td>Coffee</td>\n",
       "      <td>Colombia Select</td>\n",
       "      <td>2</td>\n",
       "      <td>4180</td>\n",
       "      <td>5</td>\n",
       "      <td>10</td>\n",
       "      <td>2090.0</td>\n",
       "      <td>20900.0</td>\n",
       "    </tr>\n",
       "    <tr>\n",
       "      <th>3</th>\n",
       "      <td>Flour</td>\n",
       "      <td>Neighbor Mills</td>\n",
       "      <td>10</td>\n",
       "      <td>5200</td>\n",
       "      <td>1</td>\n",
       "      <td>10</td>\n",
       "      <td>520.0</td>\n",
       "      <td>5200.0</td>\n",
       "    </tr>\n",
       "    <tr>\n",
       "      <th>4</th>\n",
       "      <td>Lentils</td>\n",
       "      <td>Southern Style</td>\n",
       "      <td>2</td>\n",
       "      <td>2378</td>\n",
       "      <td>5</td>\n",
       "      <td>10</td>\n",
       "      <td>1189.0</td>\n",
       "      <td>11890.0</td>\n",
       "    </tr>\n",
       "  </tbody>\n",
       "</table>\n",
       "</div>"
      ],
      "text/plain": [
       "        item            brand  units per pack  price per pack  \\\n",
       "0     Bleach        Blanchite               5            3550   \n",
       "1  Chickpeas   Southern Style               2            2600   \n",
       "2     Coffee  Colombia Select               2            4180   \n",
       "3      Flour   Neighbor Mills              10            5200   \n",
       "4    Lentils   Southern Style               2            2378   \n",
       "\n",
       "   quantity of packs  total units  price per unit  total item cost  \n",
       "0                  2           10           710.0           7100.0  \n",
       "1                  5           10          1300.0          13000.0  \n",
       "2                  5           10          2090.0          20900.0  \n",
       "3                  1           10           520.0           5200.0  \n",
       "4                  5           10          1189.0          11890.0  "
      ]
     },
     "execution_count": 2,
     "metadata": {},
     "output_type": "execute_result"
    }
   ],
   "source": [
    "# CSV file containing information on the \"bulk packs\" of items that need to be used in the hampers\n",
    "df = pd.read_csv(\"data/CharityBulkPurchaseList.csv\")\n",
    "\n",
    "# Will need to know the total number of each item that we have available to add to hampers\n",
    "df[\"total units\"] = df[\"units per pack\"].values * df[\"quantity of packs\"].values\n",
    "# Will need to know the cost of a single item so we can calc the cost of a hamper down the line\n",
    "df[\"price per unit\"] = df[\"price per pack\"].values / df[\"units per pack\"].values\n",
    "# Total cost off all items\n",
    "df[\"total item cost\"] = df[\"total units\"] * df[\"price per unit\"]\n",
    "\n",
    "# Display data in table\n",
    "df.head()"
   ]
  },
  {
   "cell_type": "markdown",
   "metadata": {},
   "source": [
    "## 3. Initial predictions\n",
    "The information available at the moment is enough to quickly determine what an optimised solution might look like in terms of number of hampers and sum cost difference (sum of the absolute difference of the hamper cost to 5000 across all hampers). It's worth doing this before diving in to solve the problem as it will help to narrow the search space and allow us to compare possible solutions to the ideal solution. \n",
    "\n",
    "### Determining the ideal number of hampers\n",
    "\n",
    "The best possible outcome is to have all hampers be worth 5000. We can find the number of hampers that will be closest to this by dividing the total cost of all items by 5000 and rounding to the nearest whole number.\n",
    "\n",
    "Note: This is the same as setting $\\Delta_{ideal\\:cost}$ to zero in the equation below and solving for $n_{hampers}$."
   ]
  },
  {
   "cell_type": "code",
   "execution_count": 3,
   "metadata": {},
   "outputs": [
    {
     "name": "stdout",
     "output_type": "stream",
     "text": [
      "Ideal number of hampers = 25\n"
     ]
    }
   ],
   "source": [
    "# Find the total cost of all items to be used in hampers\n",
    "total_cost = df[\"total item cost\"].sum()\n",
    "\n",
    "# Determine how many hampers valued exactly 5000 can be made\n",
    "n = total_cost / 5000\n",
    "\n",
    "# Round to nearest whole number since we can't have a fraction of a hamper\n",
    "n_int = round(n)\n",
    "\n",
    "print(f\"Ideal number of hampers = {n_int}\")"
   ]
  },
  {
   "cell_type": "markdown",
   "metadata": {},
   "source": [
    "### Calculating the lowest possible difference\n",
    "We know that the ideal total cost of the hampers will be $5000 \\times n_{hampers}$, where $n_{hampers}$ is the number of hampers. If we subtract the total cost of the items from this number we should arrive at the best possible sum cost difference for that number of hampers.\n",
    "\n",
    "$$ \\Delta_{ideal\\:cost} = | 5000 \\times n_{hampers} - \\sum_{i=0}^{n_i}{price_i} | $$\n",
    "\n",
    "Where $n_{hampers}$ is the number of hampers and $price_i$ is the price of a single item\n",
    "\n",
    "We are assuming that the items are distributed evenly."
   ]
  },
  {
   "cell_type": "code",
   "execution_count": 4,
   "metadata": {},
   "outputs": [],
   "source": [
    "def calc_lowest_difference(\n",
    "    n_hampers: int,\n",
    "    total_cost: float\n",
    ") -> float:\n",
    "    return np.abs(5000 * n_hampers - total_cost)"
   ]
  },
  {
   "cell_type": "markdown",
   "metadata": {},
   "source": [
    "Using the equation above and the ideal number of hampers calculated in the previous section (25) we can calculated the lowest possible \"sum of the absolute difference of the hamper cost to 5000 across all hampers\""
   ]
  },
  {
   "cell_type": "code",
   "execution_count": 5,
   "metadata": {},
   "outputs": [
    {
     "name": "stdout",
     "output_type": "stream",
     "text": [
      "Best possible sum cost difference = 1709.0\n"
     ]
    }
   ],
   "source": [
    "# Number of hampers that we will make from the items\n",
    "n_hampers = 25\n",
    "\n",
    "lowest_diff = calc_lowest_difference(n_hampers, total_cost)\n",
    "\n",
    "print(f\"Best possible sum cost difference = {lowest_diff}\")"
   ]
  },
  {
   "cell_type": "markdown",
   "metadata": {},
   "source": [
    "### Sum cost difference vs Number of Hampers\n",
    "Below is a plot of the best possible \"sum of the absolute difference of the hamper cost to 5000 across all hampers\" for a range of hamper numbers. Based on this 25 the best number of hampers by a significant margin."
   ]
  },
  {
   "cell_type": "code",
   "execution_count": 12,
   "metadata": {},
   "outputs": [
    {
     "data": {
      "text/plain": [
       "Text(0, 0.5, 'Sum cost difference')"
      ]
     },
     "execution_count": 12,
     "metadata": {},
     "output_type": "execute_result"
    },
    {
     "data": {
      "image/png": "[encoded data removed]",
      "text/plain": [
       "<Figure size 576x288 with 1 Axes>"
      ]
     },
     "metadata": {},
     "output_type": "display_data"
    }
   ],
   "source": [
    "%matplotlib inline\n",
    "sns.set_style(\"darkgrid\")\n",
    "\n",
    "# Want to plot sum cost difference for a range of hamper numbers\n",
    "num_hamper_range = np.array(range(20, 31)).astype(int)\n",
    "\n",
    "# Best possible sum cost difference for each number of hampers\n",
    "difference = calc_lowest_difference(num_hamper_range, total_cost)\n",
    "\n",
    "# Plot sum cost difference of hampers against number of hampers\n",
    "_, ax = plt.subplots(figsize=[8,4])\n",
    "sns.scatterplot(x=num_hamper_range, y=difference, ax=ax)\n",
    "\n",
    "# Only show ints on x axis\n",
    "ax.set_xticks(np.arange(min(num_hamper_range), max(num_hamper_range)+1, 1.0))\n",
    "# Labels\n",
    "ax.set_xlabel(\"Number of hampers\")\n",
    "ax.set_ylabel(\"Sum cost difference\")"
   ]
  },
  {
   "cell_type": "markdown",
   "metadata": {},
   "source": [
    "## 4. Building the Genetic Algorithm\n",
    "\n",
    "A Genetic Algorithm is a type of evolutionary algorithm that was inspired by natural selection. This algorithm will look to evolve an initial set of possible solutions (in this case randomised) to an optimised solution. It does this by \"breeding\" and \"mutating\" the best solutions (refered to as chromosomes) over multiple generations. \n",
    "\n",
    "The Genetic Algorithm used for this problem will take the following steps (This is visualised in the diagram below):\n",
    "* __Step 1 - Initialise population__: This is done at the start of the process and provides an initial population of solutions for the algorithm to work with. In this case it will be a set of psuedo-random solutions that fit the constraits of the problem (e.g. no duplicate items in a hamper).\n",
    "* __Step 2 - Fitness calculation__: The fitness calculation provides a metric to score which chromosomes are performing the best. In this case it will be the sum of the absolute difference from 5000 across all hampers.\n",
    "* __Step 3 - Check if it should terminate__: Determine if the target fitness has been met or some other limit reached (e.g. total number of generations or no improvement in n generations).\n",
    "* __Step 4 - Selection__: Select the fittest solutions to make the next generation\n",
    "* __Step 5 - Crossover__: Combine fittest \"parent\" solutions to create new solutions (parents will also be in the next generation)\n",
    "* __Step 6 - Mutation__: Randomly change parts of the solutions for some of the new population.\n",
    "* __Repeat from Step 2__ until a termination criterum is met\n",
    "\n",
    "<img src=\"./data/GAProcessDiagram.png\" width=300/>\n",
    "\n",
    "Note: Genetic Algorithms will find __an__ optimised solution not always the most optimal solution. They can potentially give different answers each time they are run. There are other approaches better suited to finding the most optimal solution (and more efficient approaches), but I wanted to play around with this kind of algorithm."
   ]
  },
  {
   "cell_type": "markdown",
   "metadata": {},
   "source": [
    "### The Chromosome"
   ]
  },
  {
   "cell_type": "code",
   "execution_count": 7,
   "metadata": {},
   "outputs": [
    {
     "name": "stdout",
     "output_type": "stream",
     "text": [
      "[[0, 2], [0, 1], [0], [1, 2], [1, 2]]\n"
     ]
    }
   ],
   "source": [
    "def chromosome_to_hampers(chromosome: list, num_hampers: int) -> list:\n",
    "    # Item in hamper shouldn't be greater than the number of hampers\n",
    "    if any(hamper > num_hampers - 1 for pack in chromosome for hamper in pack):\n",
    "        msg = f\"Hamper in chromosome is greater than num_hampers {num_hampers}\"\n",
    "        raise Exception(msg)\n",
    "\n",
    "    # Empty hampers to add items into\n",
    "    hampers = [[] for _ in range(num_hampers)]\n",
    "\n",
    "    # Iterate through chromosome to put items into their hampers\n",
    "    for i, pack in enumerate(chromosome):\n",
    "        for assigned_hamper in pack:\n",
    "            hampers[assigned_hamper].append(i)\n",
    "\n",
    "    return hampers\n",
    "\n",
    "\n",
    "hampers = chromosome_to_hampers([[0,1,2],[3,4,1],[0,4,3]], 5)\n",
    "print(hampers)\n",
    "\n",
    "[[0, 1, 1, 0]]"
   ]
  },
  {
   "cell_type": "markdown",
   "metadata": {},
   "source": [
    "###  Initialisation\n",
    "\n",
    "The genetic algorithm will need an inital set of solutions to optimised. These will be created by randomly assigning items to hampers. It will be important to do this in a way that ensure the hampers that are created are valid (i.e. no duplicate items) otherwise there is the potential for many or all of the random solutions to be invalid which can significantly slow down the optimisation.\n",
    "\n",
    "This is done by keeping track of the hampers that an item can be added to (i.e. hampers that don't already contain that item)."
   ]
  },
  {
   "cell_type": "code",
   "execution_count": 8,
   "metadata": {},
   "outputs": [],
   "source": [
    "def make_random_solution(num_hampers: int, item_lookup: dict) -> list:\n",
    "    solutions = []\n",
    "    for item in item_lookup:\n",
    "        num_units = item_lookup[item][\"total units\"]\n",
    "        pack = randomly_distribute_pack(num_units, num_hampers)\n",
    "        solutions.append(pack)\n",
    "\n",
    "    return solutions\n",
    "\n",
    "\n",
    "def randomly_distribute_pack(num_units: int, num_hampers: int) -> list:\n",
    "    # Will track which hampers an item can be assigned to.\n",
    "    hamper_options = list(range(1, num_hampers + 1))\n",
    "\n",
    "    # Go through each unit of an item and distribute it to a hamper\n",
    "    item_assignments = []\n",
    "    for i in range(num_units):\n",
    "        # Randomly select a hamper from the available hampers to assign the item to\n",
    "        available_hampers = len(hamper_options) - 1\n",
    "        hamper_idx = randint(0, available_hampers)\n",
    "\n",
    "        # Remove the hamper as it is no longer available\n",
    "        hamper = hamper_options.pop(hamper_idx)\n",
    "\n",
    "        item_assignments.append(hamper)\n",
    "\n",
    "    return item_assignments"
   ]
  },
  {
   "cell_type": "markdown",
   "metadata": {},
   "source": [
    "### Fitness\n",
    "\n",
    "Once we have an initial population to work with, we need a way of assessing the fitness of a given solution. \n",
    "We then need to assign a score based on the sum absolute difference of the hampers from the target value of 5000. To do this will we calculate the ideal sum value of the hampers $(5000 \\times n_{hampers})$. Our fitness score will be based on how far from this we are. So we will be aiming to maximise the equation below.\n",
    "\n",
    "$$ 5000 \\times n_{hampers} - \\sum_{i=1}^{n_{hampers}} | 5000 - \\sum_{i=1}^{n_{i}} price_i | $$\n",
    "\n",
    "Solutions that are invalid are given a fitness of 0."
   ]
  },
  {
   "cell_type": "code",
   "execution_count": 9,
   "metadata": {},
   "outputs": [],
   "source": [
    "def calc_fitness(\n",
    "    chromosome: list,\n",
    "    item_lookup: dict,\n",
    "    num_hampers: int,\n",
    "    target_hamper_value: float\n",
    ") -> float:\n",
    "    # Make hampers from chromosome so we can calculate their value\n",
    "    hampers = chromosome_to_hampers(chromosome, num_hampers)\n",
    "\n",
    "    # Hamper value for all hampers in solution so we can find the sum of the absolute\n",
    "    hamper_values = [calc_hamper_value(hamper, item_lookup) for hamper in hampers]\n",
    "\n",
    "    # difference from 5000 across all hampers\n",
    "    diffs = [abs(value - target_hamper_value) for value in hamper_values]\n",
    "\n",
    "    return sum(diffs)"
   ]
  },
  {
   "cell_type": "markdown",
   "metadata": {},
   "source": [
    "### Selection\n",
    "\n",
    "Now we have a function for determining fitness of a solution we now need to write a function that selects solutions to use a parents for the next generation."
   ]
  },
  {
   "cell_type": "code",
   "execution_count": 10,
   "metadata": {},
   "outputs": [],
   "source": [
    "def selection(fitness: list, num_parents: int, population: list) -> list:\n",
    "    \"\"\"Select the fittest solutions to use as parents for the next generation.\"\"\"\n",
    "    # Predefine array of indivduals that will be parents for the next generation\n",
    "    parents = np.empty((num_parents, population.shape[1]))\n",
    "    for i in range(num_parents):\n",
    "        # Finding the fittest solution\n",
    "        max_fitness_idx = np.where(fitness == np.max(fitness))\n",
    "        parents[i,:] = population[max_fitness_idx[0][0], :]\n",
    "        # Ensuring this solution is not selected next time\n",
    "        fitness[max_fitness_idx[0][0]] = -999999\n",
    "    return parents"
   ]
  },
  {
   "cell_type": "markdown",
   "metadata": {},
   "source": [
    "### Crossover"
   ]
  },
  {
   "cell_type": "markdown",
   "metadata": {},
   "source": [
    "### Mutation"
   ]
  },
  {
   "cell_type": "markdown",
   "metadata": {},
   "source": [
    "### Termination"
   ]
  }
 ],
 "metadata": {
  "kernelspec": {
   "display_name": "Python 3 (ipykernel)",
   "language": "python",
   "name": "python3"
  },
  "language_info": {
   "codemirror_mode": {
    "name": "ipython",
    "version": 3
   },
   "file_extension": ".py",
   "mimetype": "text/x-python",
   "name": "python",
   "nbconvert_exporter": "python",
   "pygments_lexer": "ipython3",
   "version": "3.10.0"
  }
 },
 "nbformat": 4,
 "nbformat_minor": 4
}
