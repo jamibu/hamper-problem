{
 "cells": [
  {
   "cell_type": "markdown",
   "metadata": {},
   "source": [
    "# Hamper Problem - Solving with a Genetic Algorithm\n",
    "\n",
    "This notebook details using a Genetic Algoritm to solve the \"Hamper Problem\" (described below). A Genetic Algorithm is a type of evolutionary algorithm modelled after natural selection that can be used to solve optimization and search problems among other use. The problem that I'll be solving was proposed as follows:\n",
    "\n",
    ">A charity purchased some bulk packs, each pack contains 1 or more items. They want to put together as many hampers as they can, with the costs ideally of 5000, and they're all as even as possible, so minimise the sum of the absolute difference of the hamper cost to 5000 across all hampers. Design the hampers with no duplicate items.\n",
    "\n",
    "## Problem outline\n",
    "\n",
    "Here is my summary of the problem based on the provided information. There are some points that I would want to discuss/clarify in a real world scenario, but I have made assumptions for these for the purpose of solving the problem here.\n",
    "\n",
    "__Goals:__\n",
    "* Make multiple hampers from the items in the bulk packs\n",
    "* Minimise the sum of the absolute difference from 5000 for the total cost of the hampers \n",
    "* Maximise the number of hampers (I'm assuming the above always takes priority, so this is really a moot point)\n",
    "\n",
    "__Constraints:__\n",
    "* Hampers cannot contain duplicate items\n",
    "* Limited to the number of units specified in the data (i.e. can't exceed this)\n",
    "* All items must be used (assumed)\n",
    "\n",
    "__Output:__\n",
    "* Number of hampers (have already calculated the optimum number to be 25)\n",
    "* Sum of the absolute difference of hamper cost from 5000 across all hampers (we'll refer to this as sum cost difference from here on for brevity)\n",
    "* The items in each hamper\n",
    "\n",
    "## Imports\n",
    "All libraries that are used in this notebook are imported below."
   ]
  },
  {
   "cell_type": "code",
   "execution_count": 1,
   "metadata": {},
   "outputs": [],
   "source": [
    "import json\n",
    "from random import randint\n",
    "\n",
    "from tabulate import tabulate\n",
    "import matplotlib.pyplot as plt\n",
    "import numpy as np\n",
    "import pandas as pd\n",
    "import random as rd\n",
    "import seaborn as sns\n",
    "\n",
    "sns.set_style(\"darkgrid\")"
   ]
  },
  {
   "cell_type": "markdown",
   "metadata": {},
   "source": [
    "## Bulk Pack Data\n",
    "\n",
    "A CSV file containing data on the bulk packs of items was provided with the problem. This has been preprocessed to determine the total number of units for each item and the price per unit in the \"Hamper Problem - Initial Processing\" notebook. The preprocessed data is loaded from a CSV file below."
   ]
  },
  {
   "cell_type": "code",
   "execution_count": 2,
   "metadata": {},
   "outputs": [
    {
     "data": {
      "text/html": [
       "<div>\n",
       "<style scoped>\n",
       "    .dataframe tbody tr th:only-of-type {\n",
       "        vertical-align: middle;\n",
       "    }\n",
       "\n",
       "    .dataframe tbody tr th {\n",
       "        vertical-align: top;\n",
       "    }\n",
       "\n",
       "    .dataframe thead th {\n",
       "        text-align: right;\n",
       "    }\n",
       "</style>\n",
       "<table border=\"1\" class=\"dataframe\">\n",
       "  <thead>\n",
       "    <tr style=\"text-align: right;\">\n",
       "      <th></th>\n",
       "      <th>item</th>\n",
       "      <th>total units</th>\n",
       "      <th>price per unit</th>\n",
       "    </tr>\n",
       "  </thead>\n",
       "  <tbody>\n",
       "    <tr>\n",
       "      <th>0</th>\n",
       "      <td>Bleach</td>\n",
       "      <td>10</td>\n",
       "      <td>710.0</td>\n",
       "    </tr>\n",
       "    <tr>\n",
       "      <th>1</th>\n",
       "      <td>Chickpeas</td>\n",
       "      <td>10</td>\n",
       "      <td>1300.0</td>\n",
       "    </tr>\n",
       "    <tr>\n",
       "      <th>2</th>\n",
       "      <td>Coffee</td>\n",
       "      <td>10</td>\n",
       "      <td>2090.0</td>\n",
       "    </tr>\n",
       "    <tr>\n",
       "      <th>3</th>\n",
       "      <td>Flour</td>\n",
       "      <td>10</td>\n",
       "      <td>520.0</td>\n",
       "    </tr>\n",
       "    <tr>\n",
       "      <th>4</th>\n",
       "      <td>Lentils</td>\n",
       "      <td>10</td>\n",
       "      <td>1189.0</td>\n",
       "    </tr>\n",
       "  </tbody>\n",
       "</table>\n",
       "</div>"
      ],
      "text/plain": [
       "        item  total units  price per unit\n",
       "0     Bleach           10           710.0\n",
       "1  Chickpeas           10          1300.0\n",
       "2     Coffee           10          2090.0\n",
       "3      Flour           10           520.0\n",
       "4    Lentils           10          1189.0"
      ]
     },
     "execution_count": 2,
     "metadata": {},
     "output_type": "execute_result"
    }
   ],
   "source": [
    "df = pd.read_csv(\"./data/items.csv\", index_col=0)\n",
    "df.head()"
   ]
  },
  {
   "cell_type": "markdown",
   "metadata": {},
   "source": [
    "I'll represent this as a dictionary to make it easy to lookup item names and values."
   ]
  },
  {
   "cell_type": "code",
   "execution_count": 3,
   "metadata": {},
   "outputs": [],
   "source": [
    "item_lookup = {}\n",
    "for i, row in df.iterrows():\n",
    "    item_lookup[i] = row.to_dict()"
   ]
  },
  {
   "cell_type": "markdown",
   "metadata": {},
   "source": [
    "## Optimum Number of Hampers and Ideal Total Cost Difference\n",
    "Based on the total cost of all items and the target hamper cost of 5000, I have determined that the __optimum number of hampers is 25__. In this process I also found that __the best possible sum cost difference is 1709__. The calculation of these is detailed in the \"Hamper Problem - Initial Processing\" notebook. "
   ]
  },
  {
   "cell_type": "code",
   "execution_count": 4,
   "metadata": {},
   "outputs": [],
   "source": [
    "num_hampers = 25\n",
    "target_cost_difference = 1709"
   ]
  },
  {
   "cell_type": "markdown",
   "metadata": {},
   "source": [
    "## Creating the Genetic Algorithm\n",
    "\n",
    "A Genetic Algorithm is a type of evolutionary algorithm that was inspired by natural selection. This algorithm will look to evolve an initial set of possible solutions (in this case randomised) to an optimised solution. It does this by \"breeding\" and \"mutating\" the best solutions (refered to as chromosomes) over multiple generations. \n",
    "\n",
    "The Genetic Algorithm used for this problem will take the following steps (This is visualised in the diagram below):\n",
    "* __Step 1 - Initialise population__: This is done at the start of the process and provides an initial population of solutions for the algorithm to work with. In this case it will be a set of psuedo-random solutions that fit the constraits of the problem (e.g. no duplicate items in a hamper).\n",
    "* __Step 2 - Fitness calculation__: The fitness calculation provides a metric to score which chromosomes are performing the best. In this case it will be the sum of the absolute difference from 5000 across all hampers.\n",
    "* __Step 3 - Check if it should terminate__: Determine if the target fitness has been met or some other limit reached (e.g. total number of generations or no improvement in n generations).\n",
    "* __Step 4 - Selection__: Select the fittest solutions to make the next generation\n",
    "* __Step 5 - Crossover__: Combine fittest \"parent\" solutions to create new solutions (parents will also be in the next generation)\n",
    "* __Step 6 - Mutation__: Randomly change parts of the solutions for some of the new population.\n",
    "* __Repeat from Step 2__ until a termination criterum is met\n",
    "\n",
    "<img src=\"./data/GAProcessDiagram.png\" width=300/>\n",
    "\n",
    "Note: Genetic Algorithms will find __an__ optimised solution not always the most optimal solution. They can potentially give different answers each time they are run. There are other approaches better suited to finding the most optimal solution (and more efficient approaches), but I wanted to play around with this kind of algorithm."
   ]
  },
  {
   "cell_type": "markdown",
   "metadata": {},
   "source": [
    "### Chromosome Structure\n",
    "\n",
    "The genetic algorithm requires a \"genetic\" representation of the solution domain. These are refered to as chromosomes. The chromosomes are most commonly an array of bits, however, other structures and encoding are also used. Selecting an appropriate structure and encoding will be particularly important for this problem and will influence how we perform crossover and mutaion and how easy or difficult it will be to produce solutions within the constraints of the problem.\n",
    "\n",
    "There are several ways in which this problem could be represented. I decided to have the chromosome represent the bulk packages and use label encoding for the hampers that the items would be assigned to. Below is an example of this for 3 packs each with 3 items distributed between 5 hampers. This strucutre ensures that the exact number of items are used (no more no less) and the sub-arrays for each bulk pack will make it easy to avoid adding duplicates to a hamper in the crossover or mutation stages.\n",
    "\n",
    "`[[0,1,2],[3,4,1],[0,4,3]]`\n",
    "\n",
    "The function below will be used to convert this chromosome structure to a dictionary representing the hampers"
   ]
  },
  {
   "cell_type": "code",
   "execution_count": 5,
   "metadata": {},
   "outputs": [
    {
     "name": "stdout",
     "output_type": "stream",
     "text": [
      "[[0, 2], [0, 1], [0], [1, 2], [1, 2]]\n"
     ]
    }
   ],
   "source": [
    "def chromosome_to_hampers(chromosome: list, num_hampers: int) -> list:\n",
    "    # Item in hamper shouldn't be greater than the number of hampers\n",
    "    if any(hamper > num_hampers - 1 for pack in chromosome for hamper in pack):\n",
    "        msg = f\"Hamper in chromosome is greater than num_hampers {num_hampers}\"\n",
    "        raise Exception(msg)\n",
    "\n",
    "    # Empty hampers to add items into\n",
    "    hampers = [[] for _ in range(num_hampers)]\n",
    "\n",
    "    # Iterate through chromosome to put items into their hampers\n",
    "    for i, pack in enumerate(chromosome):\n",
    "        for assigned_hamper in pack:\n",
    "            hampers[assigned_hamper].append(i)\n",
    "\n",
    "    return hampers\n",
    "\n",
    "\n",
    "hampers = chromosome_to_hampers([[0,1,2],[3,4,1],[0,4,3]], 5)\n",
    "print(hampers)"
   ]
  },
  {
   "cell_type": "markdown",
   "metadata": {},
   "source": [
    "There are some additional functions that I've written that I will just import as the logic is not important to the problem. These will convert the above representation of the hampers to a more fleshed out dictionary with item names and hamper value. The other will print this information in a table."
   ]
  },
  {
   "cell_type": "code",
   "execution_count": 6,
   "metadata": {},
   "outputs": [
    {
     "name": "stdout",
     "output_type": "stream",
     "text": [
      "  Hamper  Items                Value\n",
      "--------  -----------------  -------\n",
      "       0  Bleach, Coffee        2800\n",
      "       1  Bleach, Chickpeas     2010\n",
      "       2  Bleach                 710\n",
      "       3  Chickpeas, Coffee     3390\n",
      "       4  Chickpeas, Coffee     3390\n"
     ]
    }
   ],
   "source": [
    "from hamper_problem import utils\n",
    "\n",
    "hampers_dict = utils.make_hamper_output(hampers, item_lookup)\n",
    "print(utils.make_hamper_table(hampers_dict))"
   ]
  },
  {
   "cell_type": "markdown",
   "metadata": {},
   "source": [
    "### Step 1 - Initialize Population\n",
    "\n",
    "The genetic algorithm will need an inital set of solutions to optimised. These will be created by randomly assigning items to hampers. It will be important to do this in a way that ensure the hampers that are created are valid (i.e. no duplicate items) otherwise there is the potential for many or all of the random solutions to be invalid which can significantly slow down the optimisation.\n",
    "\n",
    "This is done by keeping track of the hampers that an item can be added to (i.e. hampers that don't already contain that item)."
   ]
  },
  {
   "cell_type": "code",
   "execution_count": 15,
   "metadata": {},
   "outputs": [],
   "source": [
    "def make_random_solution(num_hampers: int, item_lookup: dict) -> list:\n",
    "    solutions = []\n",
    "    for item in item_lookup:\n",
    "        num_units = item_lookup[item][\"total units\"]\n",
    "        pack = randomly_distribute_pack(num_units, num_hampers)\n",
    "        solutions.append(pack)\n",
    "\n",
    "    return solutions\n",
    "\n",
    "\n",
    "def randomly_distribute_pack(num_units: int, num_hampers: int) -> list:\n",
    "    # Will track which hampers an item can be assigned to.\n",
    "    hamper_options = list(range(1, num_hampers + 1))\n",
    "    \n",
    "    import pdb; pdb.set_trace()\n",
    "\n",
    "    # Go through each unit of an item and distribute it to a hamper\n",
    "    item_assignments = []\n",
    "    for i in range(num_units):\n",
    "        # Randomly select a hamper from the available hampers to assign the item to\n",
    "        available_hampers = len(hamper_options) - 1\n",
    "        hamper_idx = randint(0, available_hampers)\n",
    "\n",
    "        # Remove the hamper as it is no longer available\n",
    "        hamper = hamper_options.pop(hamper_idx)\n",
    "\n",
    "        item_assignments.append(hamper)\n",
    "\n",
    "    return item_assignments"
   ]
  },
  {
   "cell_type": "markdown",
   "metadata": {},
   "source": [
    "The function above creates a single solution. We'll now write a function that creates a population of request size."
   ]
  },
  {
   "cell_type": "code",
   "execution_count": null,
   "metadata": {},
   "outputs": [
    {
     "name": "stdout",
     "output_type": "stream",
     "text": [
      "> \u001b[1;32mc:\\users\\jackb\\appdata\\local\\temp\\ipykernel_9020\\2635907463.py\u001b[0m(18)\u001b[0;36mrandomly_distribute_pack\u001b[1;34m()\u001b[0m\n",
      "\n",
      "ipdb> hamper_options\n",
      "[1, 2]\n",
      "ipdb> randint(0, available_hamper)\n",
      "*** NameError: name 'available_hamper' is not defined\n",
      "ipdb> randint(0, 2)\n",
      "0\n",
      "ipdb> randint(0, 1)\n",
      "1\n",
      "ipdb> randint(0, 0)\n",
      "0\n"
     ]
    }
   ],
   "source": [
    "def initialise_population(\n",
    "    pop_size: int,\n",
    "    num_hampers: int,\n",
    "    item_lookup: dict\n",
    ") -> list:\n",
    "    population = []\n",
    "\n",
    "    # Iterate through chromosomes in the population and get a randomised solution\n",
    "    for i in range(pop_size):\n",
    "        solution = make_random_solution(num_hampers, item_lookup)\n",
    "        population.append(solution)\n",
    "\n",
    "    return population\n",
    "\n",
    "# Population of 2 for example\n",
    "initialise_population(1, 2, item_lookup)"
   ]
  },
  {
   "cell_type": "markdown",
   "metadata": {},
   "source": [
    "We'll now used the functions above to initialise our population. We will start with 25 hampers since that should be the ideal number based on our initial predictions. The number of solution in our population is set to 100 this is pretty arbitrary and probably overkill."
   ]
  },
  {
   "cell_type": "code",
   "execution_count": 9,
   "metadata": {},
   "outputs": [
    {
     "name": "stdout",
     "output_type": "stream",
     "text": [
      "[[6, 4, 5, 15, 12, 14, 13, 25, 18, 22], [1, 23, 14, 6, 21, 12, 9, 19, 24, 20], [2, 11, 19, 16, 18, 22, 8, 21, 20, 14], [18, 17, 21, 11, 14, 2, 20, 22, 5, 15], [11, 24, 19, 14, 10, 20, 7, 1, 16, 6], [2, 1, 22, 11, 7, 8, 12, 3, 21, 15], [4, 22, 24, 14, 6, 20, 25, 8, 18], [24, 23, 22, 13, 19, 21, 2, 25, 1, 12, 9, 10], [18, 2, 1, 3, 14, 20, 25, 16, 15, 4], [4, 12, 6, 24, 19, 9, 25, 14, 8, 5], [1, 12, 11, 19, 5, 17, 7, 13, 20, 10], [25, 23, 12, 17, 1, 22, 20, 10, 15, 21], [13, 21, 18, 25, 4, 10, 5, 3, 24, 20], [19, 4, 16, 12, 21, 14, 9, 1, 5, 6, 3, 17], [10, 21, 8, 13, 18, 11, 2, 3, 22, 17, 16, 20]]\n"
     ]
    }
   ],
   "source": [
    "# Setting how large our population is\n",
    "pop_size = 100\n",
    "\n",
    "# Make the initial population\n",
    "initial_population = initialise_population(pop_size, num_hampers, item_lookup)\n",
    "\n",
    "print(initial_population[0])"
   ]
  },
  {
   "cell_type": "markdown",
   "metadata": {},
   "source": [
    "### Step 2 - Fitness function\n",
    "Once we have an initial population to work with, we need a way of assessing the fitness of a given solution. \n",
    "We then need to assign a score based on the sum absolute difference of the hampers from the target value of 5000. To do this will we calculate the ideal sum value of the hampers $(5000 \\times n_{hampers})$. Our fitness score will be based on how far from this we are. So we will be aiming to maximise the equation below.\n",
    "\n",
    "$$ 5000 \\times n_{hampers} - \\sum_{i=1}^{n_{hampers}} | 5000 - \\sum_{i=1}^{n_{i}} price_i | $$\n",
    "\n",
    "Solutions that are invalid are given a fitness of 0."
   ]
  },
  {
   "cell_type": "code",
   "execution_count": null,
   "metadata": {},
   "outputs": [],
   "source": [
    "def calc_fitness(\n",
    "    chromosome: list,\n",
    "    item_lookup: dict,\n",
    "    num_hampers: int,\n",
    "    target_hamper_value: float\n",
    ") -> float:\n",
    "    # Make hampers from chromosome so we can calculate their value\n",
    "    hampers = chromosome_to_hampers(chromosome, num_hampers)\n",
    "\n",
    "    # Hamper value for all hampers in solution so we can find the sum of the absolute\n",
    "    hamper_values = [calc_hamper_value(hamper, item_lookup) for hamper in hampers]\n",
    "\n",
    "    # difference from 5000 across all hampers\n",
    "    diffs = [abs(value - target_hamper_value) for value in hamper_values]\n",
    "\n",
    "    return sum(diffs)"
   ]
  },
  {
   "cell_type": "markdown",
   "metadata": {},
   "source": [
    "### 4.4 Selection Function\n",
    "Now we have a function for determining fitness of a solution we now need to write a function that selects solutions to use a parents for the next generation."
   ]
  },
  {
   "cell_type": "code",
   "execution_count": null,
   "metadata": {},
   "outputs": [],
   "source": [
    "def selection(fitness: list, num_parents: int, population: list) -> list:\n",
    "    \"\"\"Select the fittest solutions to use as parents for the next generation.\"\"\"\n",
    "    # Predefine array of indivduals that will be parents for the next generation\n",
    "    parents = np.empty((num_parents, population.shape[1]))\n",
    "    for i in range(num_parents):\n",
    "        # Finding the fittest solution\n",
    "        max_fitness_idx = np.where(fitness == np.max(fitness))\n",
    "        parents[i,:] = population[max_fitness_idx[0][0], :]\n",
    "        # Ensuring this solution is not selected next time\n",
    "        fitness[max_fitness_idx[0][0]] = -999999\n",
    "    return parents"
   ]
  },
  {
   "cell_type": "markdown",
   "metadata": {},
   "source": [
    "### 4.5 Crossover Function\n",
    "Here we perform crossover (aka getting it on) to create a new bunch of solutions. This is using two-point crossover. Crossover rate is high to ensure a large number of the fittest individuals are used.\n",
    "\n",
    "Crossover works something like this\n",
    "```\n",
    "[0,0,0,0,0,0,0,0,0] Parent 1\n",
    "     crossover     \n",
    "[1,1,1,1,1,1,1,1,1] Parent 2\n",
    "         =         \n",
    "[0,0,0,1,1,1,0,0,0] Offspring 1\n",
    "\n",
    "[1,1,1,0,0,0,1,1,1] Offspring 2\n",
    "```"
   ]
  },
  {
   "cell_type": "code",
   "execution_count": null,
   "metadata": {},
   "outputs": [],
   "source": [
    "def crossover(parents, num_offspring, crossoverRate=0.8):\n",
    "    # Predefine the array for storing our offspring\n",
    "    offspring = np.empty((numOffspring, parents.shape[1]))\n",
    "    \n",
    "    # Where to split the solutions is randomised\n",
    "    crossoverPoint = randint(0, parents.shape[1]-1)\n",
    "    \n",
    "    for i in range(0, numOffspring, 2):\n",
    "        # Get two parents and have them get it on\n",
    "        parent1_index = i\n",
    "        parent2_index = i+1\n",
    "        \n",
    "        # Skipping these parents if the crossover rate is exceeded\n",
    "        x = rd.random()\n",
    "        if x > crossoverRate:\n",
    "            offspring[i, :] = parents[parent1_index, :]\n",
    "            offspring[i+1, :] = parents[parent2_index, :]\n",
    "            continue\n",
    "               \n",
    "        # Babies are made\n",
    "        offspring[i,0:crossoverPoint]  = parents[parent1_index,0:crossoverPoint]\n",
    "        offspring[i,crossoverPoint:]   = parents[parent2_index,crossoverPoint:]\n",
    "        \n",
    "        offspring[i+1,0:crossoverPoint]  = parents[parent2_index,0:crossoverPoint]\n",
    "        offspring[i+1,crossoverPoint:]   = parents[parent1_index,crossoverPoint:]\n",
    "\n",
    "    return offspring"
   ]
  },
  {
   "cell_type": "markdown",
   "metadata": {},
   "source": [
    "### 4.6 Mutation Function\n",
    "We will randomly mutate a few chromosomes (solutions) in order to see if we get any superpowers. We'll use the bit flip technique for creating mutants i.e. changing 1 to 0 or vice-versa."
   ]
  },
  {
   "cell_type": "code",
   "execution_count": null,
   "metadata": {},
   "outputs": [],
   "source": [
    "def mutation(offsprings, numHampers, itemIds, mutation_rate=0.4):\n",
    "    # Predefine the mutants array\n",
    "    mutants = np.empty((offsprings.shape))\n",
    "    \n",
    "    for i in range(mutants.shape[0]):\n",
    "        random_value = rd.random()\n",
    "        mutants[i,:] = offsprings[i,:]\n",
    "        \n",
    "        # Skip this one if our value exceeds the mutation rate\n",
    "        if random_value > mutation_rate:\n",
    "            continue\n",
    "        \n",
    "        # Randomise one gene in the chromosome\n",
    "        idx1 = randint(0,offsprings.shape[1]-1)\n",
    "        idx2 = randint(0,offsprings.shape[1]-1)\n",
    "        val1 = mutants[i, idx1].copy()\n",
    "        val2 = mutants[i, idx2].copy()\n",
    "        \n",
    "        mutants[i, idx1] = val2\n",
    "        mutants[i, idx2] = val1\n",
    "\n",
    "    return mutants   "
   ]
  },
  {
   "cell_type": "markdown",
   "metadata": {},
   "source": [
    "### 4.7 Termination Function\n",
    "This function will check if the optimisation should be terminated. The optimisation will be terminated if a certain number of generations have passed with no change in max fitness. It will also be terminated if a target fitness it met or exceeded."
   ]
  },
  {
   "cell_type": "code",
   "execution_count": null,
   "metadata": {},
   "outputs": [],
   "source": [
    "def termination(fitnessHistory, tolerance, targetFitness):\n",
    "    fitnessHistory_max = [np.max(fitness) for fitness in fitnessHistory[-tolerance:]]\n",
    "    fitnessHistory_max = np.array(fitnessHistory_max)\n",
    "    \n",
    "    if len(fitnessHistory) < tolerance:\n",
    "        return False\n",
    "    elif np.any(fitnessHistory_max >= targetFitness):\n",
    "        print(\"Terminated Early: Target fitness equalled or exceeded\")\n",
    "        return True\n",
    "    elif np.all(fitnessHistory_max == fitnessHistory_max[-1]):\n",
    "        print(f\"Terminated Early: Max fitness has not changed in {tolerance} generations\")\n",
    "        return True\n",
    "    else:\n",
    "        return False"
   ]
  },
  {
   "cell_type": "markdown",
   "metadata": {},
   "source": [
    "### 4.8 Bring it together\n",
    "We'll bring all of these functions together to create the Genetic Algorithm optimisation process."
   ]
  },
  {
   "cell_type": "code",
   "execution_count": null,
   "metadata": {},
   "outputs": [],
   "source": [
    "def optimize(itemIds, itemNames, prices, numHampers, population, popSize, numGenerations, tolerance, targetFitness):\n",
    "    parameters, fitnessHistory = [], []\n",
    "    numParents = int(popSize[0]/2)\n",
    "    numOffspring = popSize[0] - numParents \n",
    "    \n",
    "    # Iterate to optimise for the selected number of generations\n",
    "    for i in range(numGenerations):\n",
    "        # Determine the fittness of our the individuals in the populations\n",
    "        fitness = calcFitness(itemNames, prices, numHampers, population)\n",
    "\n",
    "        # Save fitness history so we can plot etc later\n",
    "        fitnessHistory.append(fitness)\n",
    "        \n",
    "        # See if we have satified a termination condition\n",
    "        terminate = termination(fitnessHistory, tolerance, targetFitness)\n",
    "        \n",
    "        # Terminate the optimisation early\n",
    "        if terminate:\n",
    "             # Find the fittest individual in the final generation\n",
    "            fittestSolution = np.where(fitness == np.max(fitness))\n",
    "            # Get the fittest solution for display\n",
    "            parameters.append(population[fittestSolution[0][0],:])\n",
    "            return parameters, population, fitnessHistory\n",
    "\n",
    "        # Select parents for getting it on\n",
    "        parents = selection(fitness, numParents, population)\n",
    "\n",
    "        # Make babbies\n",
    "        offspring = crossover(parents, numOffspring)\n",
    "\n",
    "        # Teenage mutant ninja turtles\n",
    "        # Some are mutated some remain the same\n",
    "        mutants = mutation(offspring, numHampers, itemIds)\n",
    "        \n",
    "        # New populations\n",
    "        population[0:parents.shape[0], :] = parents\n",
    "        population[parents.shape[0]:, :] = mutants\n",
    "\n",
    "    # Determine fittness of the final generation\n",
    "    fitness = calcFitness(itemNames, prices, numHampers, population)   \n",
    "    \n",
    "    # Find the fittest individual in the final generation\n",
    "    fittestSolution = np.where(fitness == np.max(fitness))\n",
    "\n",
    "    # Get the fittest solution for display\n",
    "    parameters.append(population[fittestSolution[0][0],:])\n",
    "    \n",
    "    return parameters, population, fitnessHistory"
   ]
  },
  {
   "cell_type": "markdown",
   "metadata": {},
   "source": [
    "## 5 Running the Genetic Algorithm\n",
    "To run this optimisation we need to first create a random set of solutions"
   ]
  },
  {
   "cell_type": "code",
   "execution_count": null,
   "metadata": {},
   "outputs": [],
   "source": [
    "%%time\n",
    "numGenerations = 1000\n",
    "\n",
    "targetFitness = 5000*numHampers - 1709\n",
    "\n",
    "parameters, population, fitnessHistory = optimize(\n",
    "    itemIds,\n",
    "    itemNames,\n",
    "    prices,\n",
    "    numHampers,\n",
    "    initialPopulation,\n",
    "    popSize,\n",
    "    numGenerations,\n",
    "    200,\n",
    "    targetFitness\n",
    ")\n"
   ]
  },
  {
   "cell_type": "code",
   "execution_count": null,
   "metadata": {},
   "outputs": [],
   "source": [
    "hampers_dict = chromosomeToHampers(parameters[0], itemNames, prices, numHampers)\n",
    "print(\"========== Hampers ==========\")\n",
    "for key in hampers_dict:\n",
    "    print(f'{hampers_dict[key][\"items\"]};{np.sum(hampers_dict[key][\"prices\"])}')\n",
    "    \n",
    "print(\"\\nSum of abs diff from 5000 = \", 5000*numHampers - np.max(fitnessHistory))"
   ]
  },
  {
   "cell_type": "code",
   "execution_count": null,
   "metadata": {},
   "outputs": [],
   "source": [
    "# Calculate the mean and max fitness values for each generation\n",
    "fitnessHistory_mean = [np.mean(fitness) for fitness in fitnessHistory]\n",
    "fitnessHistory_max = [np.max(fitness) for fitness in fitnessHistory]\n",
    "\n",
    "# Plot fitness through the generations\n",
    "plt.plot(list(range(len(fitnessHistory))), fitnessHistory_mean, label = 'Mean Fitness')\n",
    "plt.plot(list(range(len(fitnessHistory))), fitnessHistory_max, label = 'Max Fitness')\n",
    "plt.legend()\n",
    "plt.title('Fitness through the generations')\n",
    "plt.xlabel('Generations')\n",
    "plt.ylabel('Fitness')\n",
    "plt.show()\n",
    "print(np.asarray(fitnessHistory).shape)"
   ]
  }
 ],
 "metadata": {
  "kernelspec": {
   "display_name": "Python 3 (ipykernel)",
   "language": "python",
   "name": "python3"
  },
  "language_info": {
   "codemirror_mode": {
    "name": "ipython",
    "version": 3
   },
   "file_extension": ".py",
   "mimetype": "text/x-python",
   "name": "python",
   "nbconvert_exporter": "python",
   "pygments_lexer": "ipython3",
   "version": "3.10.0"
  }
 },
 "nbformat": 4,
 "nbformat_minor": 4
}
